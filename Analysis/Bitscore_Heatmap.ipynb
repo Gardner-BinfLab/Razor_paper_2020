{
 "cells": [
  {
   "cell_type": "code",
   "execution_count": 1,
   "metadata": {},
   "outputs": [],
   "source": [
    "import os\n",
    "\n",
    "root_dir = os.path.abspath(os.path.join(os.getcwd(), \"../\"))\n",
    "os.chdir(root_dir)"
   ]
  },
  {
   "cell_type": "code",
   "execution_count": 2,
   "metadata": {},
   "outputs": [],
   "source": [
    "import pandas as pd\n",
    "import numpy as np\n",
    "import seaborn as sns\n",
    "import matplotlib.pyplot as plt\n",
    "import functions\n",
    "import seaborn as sns\n",
    "sns.set_style(\"whitegrid\")\n",
    "sns.set_context(\"paper\", font_scale=1.6)\n",
    "\n",
    "\n",
    "\n",
    "# Kyte & Doolittle index of hydrophobicity\n",
    "# J. Mol. Biol. 157:105-132(1982).\n",
    "kd = {\"A\": 1.8, \"R\": -4.5, \"N\": -3.5, \"D\": -3.5, \"C\": 2.5,\n",
    "      \"Q\": -3.5, \"E\": -3.5, \"G\": -0.4, \"H\": -3.2, \"I\": 4.5,\n",
    "      \"L\": 3.8, \"K\": -3.9, \"M\": 1.9, \"F\": 2.8, \"P\": -1.6,\n",
    "      \"S\": -0.8, \"T\": -0.7, \"W\": -0.9, \"Y\": -1.3, \"V\": 4.2}\n",
    "\n",
    "#Sort kd\n",
    "kd = {k: v for k, v in sorted(kd.items(), key=lambda item: item[1])}\n",
    "aa = [k for k,v in kd.items()]\n",
    "\n",
    "%load_ext autoreload\n",
    "%autoreload 2"
   ]
  },
  {
   "cell_type": "code",
   "execution_count": 3,
   "metadata": {},
   "outputs": [
    {
     "data": {
      "text/html": [
       "<div>\n",
       "<style scoped>\n",
       "    .dataframe tbody tr th:only-of-type {\n",
       "        vertical-align: middle;\n",
       "    }\n",
       "\n",
       "    .dataframe tbody tr th {\n",
       "        vertical-align: top;\n",
       "    }\n",
       "\n",
       "    .dataframe thead th {\n",
       "        text-align: right;\n",
       "    }\n",
       "</style>\n",
       "<table border=\"1\" class=\"dataframe\">\n",
       "  <thead>\n",
       "    <tr style=\"text-align: right;\">\n",
       "      <th></th>\n",
       "      <th>Entry</th>\n",
       "      <th>All</th>\n",
       "      <th>Protein</th>\n",
       "      <th>Entry name</th>\n",
       "      <th>Status</th>\n",
       "      <th>Protein names</th>\n",
       "      <th>Gene names</th>\n",
       "      <th>Organism</th>\n",
       "      <th>Length</th>\n",
       "      <th>Signal peptide</th>\n",
       "      <th>...</th>\n",
       "      <th>Cross-reference (Pfam)</th>\n",
       "      <th>Biotechnological use</th>\n",
       "      <th>Motif</th>\n",
       "      <th>Domain [FT]</th>\n",
       "      <th>Cross-reference (InterPro)</th>\n",
       "      <th>Cross-reference (PROSITE)</th>\n",
       "      <th>Cleavage</th>\n",
       "      <th>Accession</th>\n",
       "      <th>Label</th>\n",
       "      <th>Aligned</th>\n",
       "    </tr>\n",
       "  </thead>\n",
       "  <tbody>\n",
       "    <tr>\n",
       "      <th>0</th>\n",
       "      <td>Q92791</td>\n",
       "      <td>sp|Q92791|SC65_HUMAN Endoplasmic reticulum pro...</td>\n",
       "      <td>MARVAWGLLWLLLGSAGAQYEKYSFRGFPPEDLMPLAAAYGHALEQ...</td>\n",
       "      <td>SC65_HUMAN</td>\n",
       "      <td>reviewed</td>\n",
       "      <td>Endoplasmic reticulum protein SC65 (Leprecan-l...</td>\n",
       "      <td>P3H4 LEPREL4 NOL55 SC65</td>\n",
       "      <td>Homo sapiens (Human)</td>\n",
       "      <td>437</td>\n",
       "      <td>SIGNAL 1..18;  /evidence=\"ECO:0000255\"</td>\n",
       "      <td>...</td>\n",
       "      <td>NaN</td>\n",
       "      <td>NaN</td>\n",
       "      <td>NaN</td>\n",
       "      <td>NaN</td>\n",
       "      <td>IPR033213;</td>\n",
       "      <td>NaN</td>\n",
       "      <td>18.0</td>\n",
       "      <td>Q92791|EUKARYA|NO_SP|1</td>\n",
       "      <td>1</td>\n",
       "      <td>__MARVAWGLLWLLLGSAGAQYEKYSFRGFPPEDLMPLAAA</td>\n",
       "    </tr>\n",
       "    <tr>\n",
       "      <th>1</th>\n",
       "      <td>B0JFB8</td>\n",
       "      <td>sp|B0JFB8|FPI1_ANTMY Fungal protease inhibitor...</td>\n",
       "      <td>MKAVITLLFLACILVVTYGDLICGTNYCKDHPCTSPIARASCRSPA...</td>\n",
       "      <td>FPI1_ANTMY</td>\n",
       "      <td>reviewed</td>\n",
       "      <td>Fungal protease inhibitor-1</td>\n",
       "      <td>fpi-1</td>\n",
       "      <td>Antheraea mylitta (Tasar silkworm)</td>\n",
       "      <td>105</td>\n",
       "      <td>SIGNAL 1..19;  /evidence=\"ECO:0000269|PubMed:1...</td>\n",
       "      <td>...</td>\n",
       "      <td>PF12190;</td>\n",
       "      <td>NaN</td>\n",
       "      <td>NaN</td>\n",
       "      <td>NaN</td>\n",
       "      <td>IPR021066;</td>\n",
       "      <td>NaN</td>\n",
       "      <td>19.0</td>\n",
       "      <td>B0JFB8|EUKARYA|SP|0</td>\n",
       "      <td>1</td>\n",
       "      <td>_MKAVITLLFLACILVVTYGDLICGTNYCKDHPCTSPIARA</td>\n",
       "    </tr>\n",
       "  </tbody>\n",
       "</table>\n",
       "<p>2 rows × 42 columns</p>\n",
       "</div>"
      ],
      "text/plain": [
       "    Entry                                                All  \\\n",
       "0  Q92791  sp|Q92791|SC65_HUMAN Endoplasmic reticulum pro...   \n",
       "1  B0JFB8  sp|B0JFB8|FPI1_ANTMY Fungal protease inhibitor...   \n",
       "\n",
       "                                             Protein  Entry name    Status  \\\n",
       "0  MARVAWGLLWLLLGSAGAQYEKYSFRGFPPEDLMPLAAAYGHALEQ...  SC65_HUMAN  reviewed   \n",
       "1  MKAVITLLFLACILVVTYGDLICGTNYCKDHPCTSPIARASCRSPA...  FPI1_ANTMY  reviewed   \n",
       "\n",
       "                                       Protein names               Gene names  \\\n",
       "0  Endoplasmic reticulum protein SC65 (Leprecan-l...  P3H4 LEPREL4 NOL55 SC65   \n",
       "1                        Fungal protease inhibitor-1                    fpi-1   \n",
       "\n",
       "                             Organism  Length  \\\n",
       "0                Homo sapiens (Human)     437   \n",
       "1  Antheraea mylitta (Tasar silkworm)     105   \n",
       "\n",
       "                                      Signal peptide  ...  \\\n",
       "0             SIGNAL 1..18;  /evidence=\"ECO:0000255\"  ...   \n",
       "1  SIGNAL 1..19;  /evidence=\"ECO:0000269|PubMed:1...  ...   \n",
       "\n",
       "   Cross-reference (Pfam) Biotechnological use Motif Domain [FT]  \\\n",
       "0                     NaN                  NaN   NaN         NaN   \n",
       "1                PF12190;                  NaN   NaN         NaN   \n",
       "\n",
       "  Cross-reference (InterPro) Cross-reference (PROSITE) Cleavage  \\\n",
       "0                 IPR033213;                       NaN     18.0   \n",
       "1                 IPR021066;                       NaN     19.0   \n",
       "\n",
       "                Accession Label                                    Aligned  \n",
       "0  Q92791|EUKARYA|NO_SP|1     1  __MARVAWGLLWLLLGSAGAQYEKYSFRGFPPEDLMPLAAA  \n",
       "1     B0JFB8|EUKARYA|SP|0     1  _MKAVITLLFLACILVVTYGDLICGTNYCKDHPCTSPIARA  \n",
       "\n",
       "[2 rows x 42 columns]"
      ]
     },
     "execution_count": 3,
     "metadata": {},
     "output_type": "execute_result"
    }
   ],
   "source": [
    "df = pd.read_pickle('results/signalp5_train_all.pkl.gz')\n",
    "df.head(2)"
   ]
  },
  {
   "cell_type": "code",
   "execution_count": 4,
   "metadata": {},
   "outputs": [
    {
     "data": {
      "text/plain": [
       "Eukaryota    17264\n",
       "Name: Taxonomic lineage (SUPERKINGDOM), dtype: int64"
      ]
     },
     "execution_count": 4,
     "metadata": {},
     "output_type": "execute_result"
    }
   ],
   "source": [
    "df['Taxonomic lineage (SUPERKINGDOM)'].value_counts()"
   ]
  },
  {
   "cell_type": "code",
   "execution_count": 5,
   "metadata": {},
   "outputs": [
    {
     "name": "stdout",
     "output_type": "stream",
     "text": [
      "No cluster\n",
      "Eukaryota\n",
      "----------\n",
      "0    14655\n",
      "1     2609\n",
      "Name: Label, dtype: int64\n",
      "---------\n"
     ]
    }
   ],
   "source": [
    "# kingdoms = ['Metazoa', 'Fungi', 'Viridiplantae', ]\n",
    "kingdoms = ['Eukaryota']\n",
    "dfs_nocluster = []\n",
    "for i, v in enumerate(kingdoms):\n",
    "    #Cluster\n",
    "    s = df[df['Taxonomic lineage (SUPERKINGDOM)'].apply(lambda x: x == v)].copy()\n",
    "    dfs_nocluster.append(s)\n",
    "print('No cluster')\n",
    "for p, q in enumerate(dfs_nocluster):\n",
    "    print(kingdoms[p]+'\\n----------')\n",
    "    print(q.Label.value_counts())\n",
    "    print('---------')"
   ]
  },
  {
   "cell_type": "code",
   "execution_count": 6,
   "metadata": {},
   "outputs": [
    {
     "name": "stdout",
     "output_type": "stream",
     "text": [
      "Eukaryota\n",
      "----------\n",
      "0    13237\n",
      "1     1964\n",
      "Name: Label, dtype: int64\n",
      "---------\n"
     ]
    }
   ],
   "source": [
    "from subprocess import run, PIPE, DEVNULL\n",
    "\n",
    "# kingdoms = ['Metazoa', 'Fungi', 'Viridiplantae', ]\n",
    "kingdoms = ['Eukaryota']\n",
    "dfs = []\n",
    "for i, v in enumerate(kingdoms):\n",
    "    #Cluster\n",
    "    s = df[df['Taxonomic lineage (SUPERKINGDOM)'].apply(lambda x: x == v)].copy()\n",
    "\n",
    "    cl = s[['Entry', 'Protein']].copy()\n",
    "    cl['Entry'] = '>' + cl['Entry']\n",
    "    cl['Protein'] = cl['Protein'].str[:60]\n",
    "    \n",
    "    fname = 'results/{}.fa'.format(kingdoms[i])\n",
    "    clust_fname = 'results/{}_cluster.fa'.format(kingdoms[i])\n",
    "    cl.to_csv(fname, sep='\\n', index=None, header=None)\n",
    "\n",
    "    all_args = ['cd-hit', '-i', fname, '-o', clust_fname, '-n', '5', '-c', '0.7']\n",
    "\n",
    "    run(all_args, stdout=PIPE, stderr=DEVNULL, encoding='utf-8')\n",
    "\n",
    "    clustered = functions.fasta_reader(clust_fname)\n",
    "    \n",
    "    new_df = s[s['Entry'].apply(lambda x: x in clustered.Accession.values)]\n",
    "    new_df = new_df.reset_index(drop=True)\n",
    "    \n",
    "    \n",
    "    dfs.append(new_df)\n",
    "#     dfs.append(s.copy())\n",
    "\n",
    "for p, q in enumerate(dfs):\n",
    "    print(kingdoms[p]+'\\n----------')\n",
    "    print(q.Label.value_counts())\n",
    "    print('---------')"
   ]
  },
  {
   "cell_type": "code",
   "execution_count": null,
   "metadata": {},
   "outputs": [],
   "source": []
  },
  {
   "cell_type": "code",
   "execution_count": 7,
   "metadata": {},
   "outputs": [],
   "source": [
    "def bitscore(df, col):\n",
    "    if col == 'Protein':\n",
    "        prob_ = pd.DataFrame(columns=np.arange(1, 61), index=aa)\n",
    "    else:\n",
    "        prob_ = pd.DataFrame(columns=np.arange(1, 31), index=aa)\n",
    "\n",
    "    model = df[df.Label == 1].copy()\n",
    "    background = df[df.Label == 0].copy()\n",
    "\n",
    "    dfs_ = []\n",
    "    for m in [model, background]:\n",
    "        if col == 'Protein':\n",
    "            hmm_df = m[col].str[:60].str.split('', expand=True)[np.arange(1, 61)]\n",
    "        else:\n",
    "            hmm_df = m[col].str[5:-6].str.split('', expand=True)[np.arange(1, 31)]\n",
    "        for i in hmm_df.columns:\n",
    "            all_counts = hmm_df[i].value_counts()\n",
    "            for amino in aa:\n",
    "                try:\n",
    "                    prob_.loc[amino, i] = all_counts[amino]/all_counts.sum()\n",
    "                except Exception:\n",
    "                    prob_.loc[amino, i] = np.nan\n",
    "        weights = prob_.fillna(0.0000001)\n",
    "        dfs_.append(weights)\n",
    "    ww = np.log2(dfs_[0]/dfs_[1])\n",
    "    if col != 'Protein':\n",
    "        ww.columns=np.setdiff1d(np.arange(-15, 16, 1), np.array([0]))\n",
    "    return ww"
   ]
  },
  {
   "cell_type": "code",
   "execution_count": 8,
   "metadata": {},
   "outputs": [],
   "source": [
    "bitscores = [bitscore(i, 'Protein') for i in dfs]\n",
    "bitscores_cleavage = [bitscore(i, 'Aligned') for i in dfs]"
   ]
  },
  {
   "cell_type": "code",
   "execution_count": 9,
   "metadata": {},
   "outputs": [
    {
     "data": {
      "text/plain": [
       "2.729723818381225"
      ]
     },
     "execution_count": 9,
     "metadata": {},
     "output_type": "execute_result"
    }
   ],
   "source": [
    "bitscores_cleavage[0].max().max()"
   ]
  },
  {
   "cell_type": "code",
   "execution_count": null,
   "metadata": {},
   "outputs": [],
   "source": []
  },
  {
   "cell_type": "code",
   "execution_count": 10,
   "metadata": {},
   "outputs": [
    {
     "name": "stderr",
     "output_type": "stream",
     "text": [
      "/Volumes/userdata/student_users/bikashkumarbhandari/anaconda3/lib/python3.7/site-packages/ipykernel_launcher.py:22: UserWarning: This figure includes Axes that are not compatible with tight_layout, so results might be incorrect.\n"
     ]
    },
    {
     "data": {
      "image/png": "[encoded data removed]",
      "text/plain": [
       "<Figure size 720x360 with 3 Axes>"
      ]
     },
     "metadata": {},
     "output_type": "display_data"
    }
   ],
   "source": [
    "sns.set_context(\"paper\", font_scale=1.4)\n",
    "fig, axn = plt.subplots(nrows=1, ncols=2, figsize=(10, 5), sharey=False)\n",
    "cbar_ax = fig.add_axes([0.91, .2, .01, .65])\n",
    "\n",
    "all_bitscores = [a[np.arange(1, 31)] for a in bitscores] + bitscores_cleavage\n",
    "\n",
    "for i, ax in enumerate(axn.flat):\n",
    "    d = all_bitscores[i]\n",
    "    sns.heatmap(d, ax=ax,\n",
    "                cbar=i == 0,\n",
    "                robust=True,\n",
    "                cbar_ax=None if i else cbar_ax,\n",
    "                cmap='RdBu_r',\n",
    "               center=0,)\n",
    "    if i == 0:\n",
    "        ax.set_ylabel('Amino acid')\n",
    "    else:\n",
    "#         ax.tick_params(left=False, bottom=False)\n",
    "        pass\n",
    "    plt.sca(ax)\n",
    "\n",
    "fig.tight_layout(rect=[0, 0, 0.9, 1])\n",
    "plt.savefig('figs/bitscore_heatmap.pdf',  bbox_inches='tight', pad_inches=0)"
   ]
  },
  {
   "cell_type": "code",
   "execution_count": null,
   "metadata": {},
   "outputs": [],
   "source": []
  },
  {
   "cell_type": "code",
   "execution_count": 12,
   "metadata": {},
   "outputs": [
    {
     "data": {
      "text/plain": [
       "0    1738\n",
       "1     261\n",
       "Name: Label, dtype: int64"
      ]
     },
     "execution_count": 12,
     "metadata": {},
     "output_type": "execute_result"
    }
   ],
   "source": [
    "### Run toxins data first\n",
    "\n",
    "\n",
    "toxins = pd.read_pickle('results/toxin_nontoxin.pkl.gz')\n",
    "\n",
    "toxins.Label.value_counts()"
   ]
  },
  {
   "cell_type": "code",
   "execution_count": null,
   "metadata": {},
   "outputs": [],
   "source": []
  },
  {
   "cell_type": "code",
   "execution_count": null,
   "metadata": {},
   "outputs": [],
   "source": []
  },
  {
   "cell_type": "code",
   "execution_count": 13,
   "metadata": {},
   "outputs": [],
   "source": [
    "bitscore_tox = [bitscore(toxins, 'Protein')]\n",
    "bitscore_cleavage_tox = [bitscore(toxins, 'Aligned')]"
   ]
  },
  {
   "cell_type": "code",
   "execution_count": 53,
   "metadata": {},
   "outputs": [],
   "source": [
    "# sns.choose_diverging_palette()"
   ]
  },
  {
   "cell_type": "code",
   "execution_count": 15,
   "metadata": {},
   "outputs": [
    {
     "name": "stderr",
     "output_type": "stream",
     "text": [
      "/Volumes/userdata/student_users/bikashkumarbhandari/anaconda3/lib/python3.7/site-packages/ipykernel_launcher.py:27: UserWarning: This figure includes Axes that are not compatible with tight_layout, so results might be incorrect.\n"
     ]
    },
    {
     "data": {
      "image/png": "[encoded data removed]",
      "text/plain": [
       "<Figure size 720x360 with 3 Axes>"
      ]
     },
     "metadata": {},
     "output_type": "display_data"
    }
   ],
   "source": [
    "# sns.set_context(\"paper\", font_scale=1.6)\n",
    "# fig, axn = plt.subplots(nrows=1, ncols=2, figsize=(10, 5), sharey=True)\n",
    "sns.set_context(\"paper\", font_scale=1.4)\n",
    "fig, axn = plt.subplots(nrows=1, ncols=2, figsize=(10, 5), sharey=False)\n",
    "cbar_ax = fig.add_axes([0.91, .2, .01, .65])\n",
    "\n",
    "all_bitscores = [a[np.arange(1, 31)] for a in bitscore_tox] + bitscore_cleavage_tox\n",
    "\n",
    "for i, ax in enumerate(axn.flat):\n",
    "    d = all_bitscores[i]\n",
    "    d = d.applymap(lambda x: np.nan if x < -10 else x)\n",
    "    mask = d.isnull()\n",
    "    sns.heatmap(d, ax=ax,\n",
    "                cbar=i == 0,\n",
    "                robust=True,\n",
    "                cbar_ax=None if i else cbar_ax,\n",
    "                cmap='viridis',\n",
    "#                center='0',\n",
    "               mask=mask)\n",
    "    if i == 0:\n",
    "        ax.set_ylabel('Amino acid')\n",
    "    else:\n",
    "        pass\n",
    "#         ax.tick_params(left=False, bottom=False)\n",
    "    plt.sca(ax)\n",
    "\n",
    "fig.tight_layout(rect=[0, 0, 0.9, 1])\n",
    "plt.savefig('figs/bitscore_heatmap_toxin.pdf',  bbox_inches='tight', pad_inches=0)"
   ]
  },
  {
   "cell_type": "code",
   "execution_count": null,
   "metadata": {},
   "outputs": [],
   "source": []
  },
  {
   "cell_type": "code",
   "execution_count": 16,
   "metadata": {},
   "outputs": [
    {
     "data": {
      "image/png": "[encoded data removed]",
      "text/plain": [
       "<Figure size 72x432 with 1 Axes>"
      ]
     },
     "metadata": {},
     "output_type": "display_data"
    }
   ],
   "source": [
    "sns.set_style(\"ticks\")\n",
    "sns.set_context(\"paper\", font_scale=2)\n",
    "ax = pd.DataFrame(kd, index=[0]).transpose().sort_values(by=0, ascending=False).plot(kind='barh', figsize=(1, 6), legend=None)\n",
    "plt.xticks([-5, 0, 5])\n",
    "ax.yaxis.tick_right()\n",
    "# sns.despine()\n",
    "plt.savefig('figs/hydrophobicity.pdf', bbox_inches='tight', pad_inches=0)"
   ]
  },
  {
   "cell_type": "code",
   "execution_count": null,
   "metadata": {},
   "outputs": [],
   "source": []
  },
  {
   "cell_type": "code",
   "execution_count": null,
   "metadata": {},
   "outputs": [],
   "source": []
  }
 ],
 "metadata": {
  "kernelspec": {
   "display_name": "Python 3",
   "language": "python",
   "name": "python3"
  },
  "language_info": {
   "codemirror_mode": {
    "name": "ipython",
    "version": 3
   },
   "file_extension": ".py",
   "mimetype": "text/x-python",
   "name": "python",
   "nbconvert_exporter": "python",
   "pygments_lexer": "ipython3",
   "version": "3.6.9"
  }
 },
 "nbformat": 4,
 "nbformat_minor": 4
}
