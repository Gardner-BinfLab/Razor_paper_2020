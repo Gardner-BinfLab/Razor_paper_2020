{
 "cells": [
  {
   "cell_type": "code",
   "execution_count": 1,
   "metadata": {},
   "outputs": [],
   "source": [
    "import os\n",
    "\n",
    "root_dir = os.path.abspath(os.path.join(os.getcwd(), \"../\"))\n",
    "os.chdir(root_dir)"
   ]
  },
  {
   "cell_type": "code",
   "execution_count": 2,
   "metadata": {},
   "outputs": [],
   "source": [
    "import pandas as pd\n",
    "import numpy as np\n",
    "import seaborn as sns\n",
    "import matplotlib.pyplot as plt\n",
    "import functions\n",
    "import seaborn as sns\n",
    "sns.set_style(\"whitegrid\")\n",
    "sns.set_context(\"paper\", font_scale=1.6)\n",
    "\n",
    "\n",
    "\n",
    "# Kyte & Doolittle index of hydrophobicity\n",
    "# J. Mol. Biol. 157:105-132(1982).\n",
    "kd = {\"A\": 1.8, \"R\": -4.5, \"N\": -3.5, \"D\": -3.5, \"C\": 2.5,\n",
    "      \"Q\": -3.5, \"E\": -3.5, \"G\": -0.4, \"H\": -3.2, \"I\": 4.5,\n",
    "      \"L\": 3.8, \"K\": -3.9, \"M\": 1.9, \"F\": 2.8, \"P\": -1.6,\n",
    "      \"S\": -0.8, \"T\": -0.7, \"W\": -0.9, \"Y\": -1.3, \"V\": 4.2}\n",
    "\n",
    "#Sort kd\n",
    "kd = {k: v for k, v in sorted(kd.items(), key=lambda item: item[1])}\n",
    "aa = [k for k,v in kd.items()]\n",
    "\n",
    "%load_ext autoreload\n",
    "%autoreload 2"
   ]
  },
  {
   "cell_type": "code",
   "execution_count": 3,
   "metadata": {},
   "outputs": [],
   "source": [
    "train = pd.read_pickle('results/signalp5_train_all.pkl.gz')"
   ]
  },
  {
   "cell_type": "code",
   "execution_count": 4,
   "metadata": {},
   "outputs": [
    {
     "data": {
      "text/html": [
       "<div>\n",
       "<style scoped>\n",
       "    .dataframe tbody tr th:only-of-type {\n",
       "        vertical-align: middle;\n",
       "    }\n",
       "\n",
       "    .dataframe tbody tr th {\n",
       "        vertical-align: top;\n",
       "    }\n",
       "\n",
       "    .dataframe thead th {\n",
       "        text-align: right;\n",
       "    }\n",
       "</style>\n",
       "<table border=\"1\" class=\"dataframe\">\n",
       "  <thead>\n",
       "    <tr style=\"text-align: right;\">\n",
       "      <th></th>\n",
       "      <th>Entry</th>\n",
       "      <th>Entry name</th>\n",
       "      <th>Status</th>\n",
       "      <th>Protein names</th>\n",
       "      <th>Gene names</th>\n",
       "      <th>Organism</th>\n",
       "      <th>Length</th>\n",
       "      <th>Sequence</th>\n",
       "      <th>Signal peptide</th>\n",
       "      <th>Protein existence</th>\n",
       "      <th>Taxonomic lineage (all)</th>\n",
       "    </tr>\n",
       "  </thead>\n",
       "  <tbody>\n",
       "    <tr>\n",
       "      <th>0</th>\n",
       "      <td>A4IGY6</td>\n",
       "      <td>S39AE_XENTR</td>\n",
       "      <td>reviewed</td>\n",
       "      <td>Metal cation symporter ZIP14 (Solute carrier f...</td>\n",
       "      <td>slc39a14</td>\n",
       "      <td>Xenopus tropicalis (Western clawed frog) (Silu...</td>\n",
       "      <td>462</td>\n",
       "      <td>MPLLLLSALLPFSLMAGPTPSTGKELSAASFLQDILQRYGENESLS...</td>\n",
       "      <td>SIGNAL 1..16;  /evidence=\"ECO:0000255\"</td>\n",
       "      <td>Evidence at transcript level</td>\n",
       "      <td>cellular organisms, Eukaryota, Opisthokonta, M...</td>\n",
       "    </tr>\n",
       "    <tr>\n",
       "      <th>1</th>\n",
       "      <td>Q08535</td>\n",
       "      <td>SECR_MOUSE</td>\n",
       "      <td>reviewed</td>\n",
       "      <td>Secretin</td>\n",
       "      <td>Sct</td>\n",
       "      <td>Mus musculus (Mouse)</td>\n",
       "      <td>133</td>\n",
       "      <td>MEPPLPTPMLLLLLLLLSSSAALPAPPRTPRHSDGMFTSELSRLQD...</td>\n",
       "      <td>SIGNAL 1..22;  /evidence=\"ECO:0000255\"</td>\n",
       "      <td>Evidence at transcript level</td>\n",
       "      <td>cellular organisms, Eukaryota, Opisthokonta, M...</td>\n",
       "    </tr>\n",
       "  </tbody>\n",
       "</table>\n",
       "</div>"
      ],
      "text/plain": [
       "    Entry   Entry name    Status  \\\n",
       "0  A4IGY6  S39AE_XENTR  reviewed   \n",
       "1  Q08535   SECR_MOUSE  reviewed   \n",
       "\n",
       "                                       Protein names Gene names  \\\n",
       "0  Metal cation symporter ZIP14 (Solute carrier f...   slc39a14   \n",
       "1                                           Secretin        Sct   \n",
       "\n",
       "                                            Organism  Length  \\\n",
       "0  Xenopus tropicalis (Western clawed frog) (Silu...     462   \n",
       "1                               Mus musculus (Mouse)     133   \n",
       "\n",
       "                                            Sequence  \\\n",
       "0  MPLLLLSALLPFSLMAGPTPSTGKELSAASFLQDILQRYGENESLS...   \n",
       "1  MEPPLPTPMLLLLLLLLSSSAALPAPPRTPRHSDGMFTSELSRLQD...   \n",
       "\n",
       "                           Signal peptide             Protein existence  \\\n",
       "0  SIGNAL 1..16;  /evidence=\"ECO:0000255\"  Evidence at transcript level   \n",
       "1  SIGNAL 1..22;  /evidence=\"ECO:0000255\"  Evidence at transcript level   \n",
       "\n",
       "                             Taxonomic lineage (all)  \n",
       "0  cellular organisms, Eukaryota, Opisthokonta, M...  \n",
       "1  cellular organisms, Eukaryota, Opisthokonta, M...  "
      ]
     },
     "execution_count": 4,
     "metadata": {},
     "output_type": "execute_result"
    }
   ],
   "source": [
    "df1 = pd.read_csv('data/uniprot_new/uniprot-keyword Signal+[KW-0732] +AND+reviewed yes+AND+taxonomy %--.tab.gz', sep='\\t')\n",
    "df1.head(2)"
   ]
  },
  {
   "cell_type": "markdown",
   "metadata": {},
   "source": [
    "#### New SP"
   ]
  },
  {
   "cell_type": "code",
   "execution_count": 5,
   "metadata": {},
   "outputs": [],
   "source": [
    "df1_ = df1[df1.Entry.apply(lambda x: x not in train.Entry.values)]\n",
    "## Take experimental ones\n",
    "df1 = df1_[df1_['Signal peptide'].apply(lambda x: '000269' in str(x))].copy()"
   ]
  },
  {
   "cell_type": "code",
   "execution_count": 6,
   "metadata": {},
   "outputs": [],
   "source": [
    "df1['Label'] = 1"
   ]
  },
  {
   "cell_type": "markdown",
   "metadata": {},
   "source": [
    "### New NO_SP"
   ]
  },
  {
   "cell_type": "code",
   "execution_count": 7,
   "metadata": {},
   "outputs": [],
   "source": [
    "df2 = pd.read_csv('data/uniprot_new/uniprot-taxonomy Eukaryota+[2759] +AND+reviewed yes.tab.gz', sep='\\t')\n",
    "## Take experimental ones\n",
    "df2 = df2[df2['Protein existence'].apply(lambda x: 'protein level' in str(x).lower())].copy()\n",
    "# Remove training\n",
    "df2 = df2[df2.Entry.apply(lambda x: x not in train.Entry.values)]"
   ]
  },
  {
   "cell_type": "code",
   "execution_count": 8,
   "metadata": {},
   "outputs": [],
   "source": [
    "df2 = df2[df2['Signal peptide'].isna()]"
   ]
  },
  {
   "cell_type": "code",
   "execution_count": 9,
   "metadata": {},
   "outputs": [],
   "source": [
    "df2['Label'] = 0"
   ]
  },
  {
   "cell_type": "markdown",
   "metadata": {},
   "source": [
    "#### Combine "
   ]
  },
  {
   "cell_type": "code",
   "execution_count": 10,
   "metadata": {},
   "outputs": [],
   "source": [
    "new_df = pd.concat([df1, df2]).reset_index(drop=True)"
   ]
  },
  {
   "cell_type": "code",
   "execution_count": 11,
   "metadata": {},
   "outputs": [],
   "source": [
    "new_df.to_pickle('results/new_uniprot.pkl.gz')"
   ]
  },
  {
   "cell_type": "code",
   "execution_count": 12,
   "metadata": {},
   "outputs": [
    {
     "data": {
      "text/plain": [
       "Evidence at protein level    53026\n",
       "Name: Protein existence, dtype: int64"
      ]
     },
     "execution_count": 12,
     "metadata": {},
     "output_type": "execute_result"
    }
   ],
   "source": [
    "new_df['Protein existence'].value_counts()"
   ]
  },
  {
   "cell_type": "code",
   "execution_count": 13,
   "metadata": {},
   "outputs": [
    {
     "data": {
      "text/plain": [
       "0    52735\n",
       "1      291\n",
       "Name: Label, dtype: int64"
      ]
     },
     "execution_count": 13,
     "metadata": {},
     "output_type": "execute_result"
    }
   ],
   "source": [
    "new_df.Label.value_counts()"
   ]
  },
  {
   "cell_type": "code",
   "execution_count": null,
   "metadata": {},
   "outputs": [],
   "source": []
  }
 ],
 "metadata": {
  "kernelspec": {
   "display_name": "Python 3",
   "language": "python",
   "name": "python3"
  },
  "language_info": {
   "codemirror_mode": {
    "name": "ipython",
    "version": 3
   },
   "file_extension": ".py",
   "mimetype": "text/x-python",
   "name": "python",
   "nbconvert_exporter": "python",
   "pygments_lexer": "ipython3",
   "version": "3.7.6"
  }
 },
 "nbformat": 4,
 "nbformat_minor": 4
}
