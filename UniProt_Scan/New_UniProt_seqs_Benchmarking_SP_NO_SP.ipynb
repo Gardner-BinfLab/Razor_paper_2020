{
 "cells": [
  {
   "cell_type": "code",
   "execution_count": 1,
   "metadata": {},
   "outputs": [],
   "source": [
    "import pandas as pd\n",
    "import numpy as np\n",
    "import matplotlib.pyplot as plt\n",
    "import seaborn as sns\n",
    "\n",
    "sns.set_style(\"whitegrid\")\n",
    "sns.set_context(\"paper\", font_scale=1.6)\n",
    "\n",
    "\n",
    "\n",
    "from sklearn.metrics import roc_curve, auc\n",
    "from sklearn.metrics import matthews_corrcoef\n",
    "from sklearn.metrics import precision_recall_curve"
   ]
  },
  {
   "cell_type": "code",
   "execution_count": null,
   "metadata": {},
   "outputs": [],
   "source": []
  },
  {
   "cell_type": "code",
   "execution_count": 2,
   "metadata": {},
   "outputs": [],
   "source": [
    "razor = pd.read_pickle('uniprot_new_seqs_threshold_0_57.pkl.gz')\n",
    "def cleavage(x):\n",
    "    try:\n",
    "        return int(x.split('..')[1].split(';')[0])\n",
    "    except Exception:\n",
    "        if str(x) != 'nan':\n",
    "            print(x)\n",
    "        return np.nan\n",
    "    \n",
    "razor['Cleav'] = razor['Signal peptide'].apply(cleavage)"
   ]
  },
  {
   "cell_type": "code",
   "execution_count": null,
   "metadata": {},
   "outputs": [],
   "source": []
  },
  {
   "cell_type": "code",
   "execution_count": 3,
   "metadata": {},
   "outputs": [
    {
     "data": {
      "text/plain": [
       "0    52055\n",
       "1      287\n",
       "Name: Label, dtype: int64"
      ]
     },
     "execution_count": 3,
     "metadata": {},
     "output_type": "execute_result"
    }
   ],
   "source": [
    "razor.Label.value_counts()"
   ]
  },
  {
   "cell_type": "code",
   "execution_count": 4,
   "metadata": {},
   "outputs": [],
   "source": [
    "sp4 = pd.read_csv('../results/new_uniprot.fa.signalp4', skiprows=1, sep='\\s+')\n",
    "sp4 = sp4.rename(columns={'#name':'Entry'})\n",
    "\n",
    "tmp1 = pd.merge(sp4, razor, on='Entry')\n",
    "tmp1['SP4_Preds'] = tmp1['?'].apply(lambda x: 1 if x == 'Y' else 0)\n",
    "tmp1['Razor_Preds'] = tmp1['Median_Y'].apply(lambda x: 1 if x >= 0.56 else 0)\n"
   ]
  },
  {
   "cell_type": "code",
   "execution_count": null,
   "metadata": {},
   "outputs": [],
   "source": []
  },
  {
   "cell_type": "code",
   "execution_count": 5,
   "metadata": {},
   "outputs": [
    {
     "data": {
      "text/plain": [
       "OTHER          51639\n",
       "SP(Sec/SPI)      703\n",
       "Name: Prediction, dtype: int64"
      ]
     },
     "execution_count": 5,
     "metadata": {},
     "output_type": "execute_result"
    }
   ],
   "source": [
    "sp5 = pd.read_csv('../results/new_uniprot.fa.signalp5', sep='\\t', skiprows=1)\n",
    "sp5 = sp5.rename(columns={'#ID':'Entry'})\n",
    "# sp5.head()\n",
    "\n",
    "tmp2 = pd.merge(tmp1, sp5, on='Entry')\n",
    "tmp2['SP5_Preds'] = tmp2['Prediction'].apply(lambda x: 1 if x == 'SP(Sec/SPI)' else 0)\n",
    "tmp2['Prediction'].value_counts()"
   ]
  },
  {
   "cell_type": "code",
   "execution_count": 6,
   "metadata": {},
   "outputs": [],
   "source": [
    "def sp5_cleavage(val):\n",
    "    try:\n",
    "        cs = int(val.split('CS pos: ')[1].split('-')[0])\n",
    "    except Exception:\n",
    "        cs = np.nan\n",
    "    return cs\n",
    "tmp2['Cleav_SP5'] = tmp2['CS Position'].apply(sp5_cleavage)"
   ]
  },
  {
   "cell_type": "code",
   "execution_count": null,
   "metadata": {},
   "outputs": [],
   "source": []
  },
  {
   "cell_type": "code",
   "execution_count": 7,
   "metadata": {},
   "outputs": [
    {
     "data": {
      "text/html": [
       "<div>\n",
       "<style scoped>\n",
       "    .dataframe tbody tr th:only-of-type {\n",
       "        vertical-align: middle;\n",
       "    }\n",
       "\n",
       "    .dataframe tbody tr th {\n",
       "        vertical-align: top;\n",
       "    }\n",
       "\n",
       "    .dataframe thead th {\n",
       "        text-align: right;\n",
       "    }\n",
       "</style>\n",
       "<table border=\"1\" class=\"dataframe\">\n",
       "  <thead>\n",
       "    <tr style=\"text-align: right;\">\n",
       "      <th></th>\n",
       "      <th>Entry</th>\n",
       "      <th>Cmax</th>\n",
       "      <th>pos</th>\n",
       "      <th>Ymax</th>\n",
       "      <th>pos.1</th>\n",
       "      <th>Smax</th>\n",
       "      <th>pos.2</th>\n",
       "      <th>Smean</th>\n",
       "      <th>D</th>\n",
       "      <th>?</th>\n",
       "      <th>...</th>\n",
       "      <th>Toxin_Preds</th>\n",
       "      <th>Toxin_prob</th>\n",
       "      <th>SP4_Preds</th>\n",
       "      <th>Razor_Preds</th>\n",
       "      <th>Prediction</th>\n",
       "      <th>SP(Sec/SPI)</th>\n",
       "      <th>OTHER</th>\n",
       "      <th>CS Position</th>\n",
       "      <th>SP5_Preds</th>\n",
       "      <th>Cleav_SP5</th>\n",
       "    </tr>\n",
       "  </thead>\n",
       "  <tbody>\n",
       "    <tr>\n",
       "      <th>0</th>\n",
       "      <td>P0DQE1</td>\n",
       "      <td>0.279</td>\n",
       "      <td>24</td>\n",
       "      <td>0.482</td>\n",
       "      <td>24</td>\n",
       "      <td>0.945</td>\n",
       "      <td>15</td>\n",
       "      <td>0.837</td>\n",
       "      <td>0.674</td>\n",
       "      <td>Y</td>\n",
       "      <td>...</td>\n",
       "      <td>[True, False, True, True, True]</td>\n",
       "      <td>[0.73, 0.18, 0.68, 0.69, 0.7]</td>\n",
       "      <td>1</td>\n",
       "      <td>1</td>\n",
       "      <td>SP(Sec/SPI)</td>\n",
       "      <td>0.950889</td>\n",
       "      <td>0.049111</td>\n",
       "      <td>CS pos: 23-24. SEG-SI. Pr: 0.5976</td>\n",
       "      <td>1</td>\n",
       "      <td>23.0</td>\n",
       "    </tr>\n",
       "    <tr>\n",
       "      <th>1</th>\n",
       "      <td>P0DPZ2</td>\n",
       "      <td>0.564</td>\n",
       "      <td>24</td>\n",
       "      <td>0.698</td>\n",
       "      <td>24</td>\n",
       "      <td>0.940</td>\n",
       "      <td>13</td>\n",
       "      <td>0.866</td>\n",
       "      <td>0.789</td>\n",
       "      <td>Y</td>\n",
       "      <td>...</td>\n",
       "      <td>[True, True, True, True, True]</td>\n",
       "      <td>[0.77, 0.77, 0.77, 0.75, 0.35]</td>\n",
       "      <td>1</td>\n",
       "      <td>1</td>\n",
       "      <td>SP(Sec/SPI)</td>\n",
       "      <td>0.879873</td>\n",
       "      <td>0.120127</td>\n",
       "      <td>CS pos: 23-24. KEA-LK. Pr: 0.4170</td>\n",
       "      <td>1</td>\n",
       "      <td>23.0</td>\n",
       "    </tr>\n",
       "  </tbody>\n",
       "</table>\n",
       "<p>2 rows × 44 columns</p>\n",
       "</div>"
      ],
      "text/plain": [
       "    Entry   Cmax  pos   Ymax  pos.1   Smax  pos.2  Smean      D  ?  ...  \\\n",
       "0  P0DQE1  0.279   24  0.482     24  0.945     15  0.837  0.674  Y  ...   \n",
       "1  P0DPZ2  0.564   24  0.698     24  0.940     13  0.866  0.789  Y  ...   \n",
       "\n",
       "                       Toxin_Preds                      Toxin_prob SP4_Preds  \\\n",
       "0  [True, False, True, True, True]   [0.73, 0.18, 0.68, 0.69, 0.7]         1   \n",
       "1   [True, True, True, True, True]  [0.77, 0.77, 0.77, 0.75, 0.35]         1   \n",
       "\n",
       "  Razor_Preds   Prediction SP(Sec/SPI)     OTHER  \\\n",
       "0           1  SP(Sec/SPI)    0.950889  0.049111   \n",
       "1           1  SP(Sec/SPI)    0.879873  0.120127   \n",
       "\n",
       "                         CS Position SP5_Preds Cleav_SP5  \n",
       "0  CS pos: 23-24. SEG-SI. Pr: 0.5976         1      23.0  \n",
       "1  CS pos: 23-24. KEA-LK. Pr: 0.4170         1      23.0  \n",
       "\n",
       "[2 rows x 44 columns]"
      ]
     },
     "execution_count": 7,
     "metadata": {},
     "output_type": "execute_result"
    }
   ],
   "source": [
    "tmp2.head(2)"
   ]
  },
  {
   "cell_type": "code",
   "execution_count": 8,
   "metadata": {},
   "outputs": [
    {
     "data": {
      "text/html": [
       "<div>\n",
       "<style scoped>\n",
       "    .dataframe tbody tr th:only-of-type {\n",
       "        vertical-align: middle;\n",
       "    }\n",
       "\n",
       "    .dataframe tbody tr th {\n",
       "        vertical-align: top;\n",
       "    }\n",
       "\n",
       "    .dataframe thead th {\n",
       "        text-align: right;\n",
       "    }\n",
       "</style>\n",
       "<table border=\"1\" class=\"dataframe\">\n",
       "  <thead>\n",
       "    <tr style=\"text-align: right;\">\n",
       "      <th></th>\n",
       "      <th>Entry</th>\n",
       "      <th>Tool</th>\n",
       "      <th>Result</th>\n",
       "      <th>3</th>\n",
       "      <th>Cleav_DeepSig</th>\n",
       "      <th>Prob_DeepSig</th>\n",
       "      <th>6</th>\n",
       "      <th>7</th>\n",
       "      <th>8</th>\n",
       "      <th>DeepSig_Preds</th>\n",
       "    </tr>\n",
       "  </thead>\n",
       "  <tbody>\n",
       "    <tr>\n",
       "      <th>0</th>\n",
       "      <td>P0DQE1</td>\n",
       "      <td>DeepSig</td>\n",
       "      <td>Signal peptide</td>\n",
       "      <td>1</td>\n",
       "      <td>23</td>\n",
       "      <td>0.91</td>\n",
       "      <td>.</td>\n",
       "      <td>.</td>\n",
       "      <td>evidence=ECO:0000256</td>\n",
       "      <td>1</td>\n",
       "    </tr>\n",
       "    <tr>\n",
       "      <th>2</th>\n",
       "      <td>P0DPZ2</td>\n",
       "      <td>DeepSig</td>\n",
       "      <td>Signal peptide</td>\n",
       "      <td>1</td>\n",
       "      <td>23</td>\n",
       "      <td>0.93</td>\n",
       "      <td>.</td>\n",
       "      <td>.</td>\n",
       "      <td>evidence=ECO:0000256</td>\n",
       "      <td>1</td>\n",
       "    </tr>\n",
       "    <tr>\n",
       "      <th>4</th>\n",
       "      <td>P0DPV6</td>\n",
       "      <td>DeepSig</td>\n",
       "      <td>Signal peptide</td>\n",
       "      <td>1</td>\n",
       "      <td>23</td>\n",
       "      <td>0.98</td>\n",
       "      <td>.</td>\n",
       "      <td>.</td>\n",
       "      <td>evidence=ECO:0000256</td>\n",
       "      <td>1</td>\n",
       "    </tr>\n",
       "    <tr>\n",
       "      <th>6</th>\n",
       "      <td>P0DPU6</td>\n",
       "      <td>DeepSig</td>\n",
       "      <td>Chain</td>\n",
       "      <td>1</td>\n",
       "      <td>197</td>\n",
       "      <td>0.00</td>\n",
       "      <td>.</td>\n",
       "      <td>.</td>\n",
       "      <td>evidence=ECO:0000256</td>\n",
       "      <td>0</td>\n",
       "    </tr>\n",
       "    <tr>\n",
       "      <th>7</th>\n",
       "      <td>P19438</td>\n",
       "      <td>DeepSig</td>\n",
       "      <td>Signal peptide</td>\n",
       "      <td>1</td>\n",
       "      <td>24</td>\n",
       "      <td>0.98</td>\n",
       "      <td>.</td>\n",
       "      <td>.</td>\n",
       "      <td>evidence=ECO:0000256</td>\n",
       "      <td>1</td>\n",
       "    </tr>\n",
       "    <tr>\n",
       "      <th>...</th>\n",
       "      <td>...</td>\n",
       "      <td>...</td>\n",
       "      <td>...</td>\n",
       "      <td>...</td>\n",
       "      <td>...</td>\n",
       "      <td>...</td>\n",
       "      <td>...</td>\n",
       "      <td>...</td>\n",
       "      <td>...</td>\n",
       "      <td>...</td>\n",
       "    </tr>\n",
       "    <tr>\n",
       "      <th>52978</th>\n",
       "      <td>Q8IVQ6</td>\n",
       "      <td>DeepSig</td>\n",
       "      <td>Chain</td>\n",
       "      <td>1</td>\n",
       "      <td>265</td>\n",
       "      <td>0.00</td>\n",
       "      <td>.</td>\n",
       "      <td>.</td>\n",
       "      <td>evidence=ECO:0000256</td>\n",
       "      <td>0</td>\n",
       "    </tr>\n",
       "    <tr>\n",
       "      <th>52979</th>\n",
       "      <td>O48626</td>\n",
       "      <td>DeepSig</td>\n",
       "      <td>Chain</td>\n",
       "      <td>1</td>\n",
       "      <td>742</td>\n",
       "      <td>0.00</td>\n",
       "      <td>.</td>\n",
       "      <td>.</td>\n",
       "      <td>evidence=ECO:0000256</td>\n",
       "      <td>0</td>\n",
       "    </tr>\n",
       "    <tr>\n",
       "      <th>52980</th>\n",
       "      <td>P45972</td>\n",
       "      <td>DeepSig</td>\n",
       "      <td>Chain</td>\n",
       "      <td>1</td>\n",
       "      <td>705</td>\n",
       "      <td>0.00</td>\n",
       "      <td>.</td>\n",
       "      <td>.</td>\n",
       "      <td>evidence=ECO:0000256</td>\n",
       "      <td>0</td>\n",
       "    </tr>\n",
       "    <tr>\n",
       "      <th>52981</th>\n",
       "      <td>Q62394</td>\n",
       "      <td>DeepSig</td>\n",
       "      <td>Chain</td>\n",
       "      <td>1</td>\n",
       "      <td>352</td>\n",
       "      <td>0.00</td>\n",
       "      <td>.</td>\n",
       "      <td>.</td>\n",
       "      <td>evidence=ECO:0000256</td>\n",
       "      <td>0</td>\n",
       "    </tr>\n",
       "    <tr>\n",
       "      <th>52982</th>\n",
       "      <td>Q9ERU3</td>\n",
       "      <td>DeepSig</td>\n",
       "      <td>Chain</td>\n",
       "      <td>1</td>\n",
       "      <td>237</td>\n",
       "      <td>0.00</td>\n",
       "      <td>.</td>\n",
       "      <td>.</td>\n",
       "      <td>evidence=ECO:0000256</td>\n",
       "      <td>0</td>\n",
       "    </tr>\n",
       "  </tbody>\n",
       "</table>\n",
       "<p>52342 rows × 10 columns</p>\n",
       "</div>"
      ],
      "text/plain": [
       "        Entry     Tool          Result  3  Cleav_DeepSig  Prob_DeepSig  6  7  \\\n",
       "0      P0DQE1  DeepSig  Signal peptide  1             23          0.91  .  .   \n",
       "2      P0DPZ2  DeepSig  Signal peptide  1             23          0.93  .  .   \n",
       "4      P0DPV6  DeepSig  Signal peptide  1             23          0.98  .  .   \n",
       "6      P0DPU6  DeepSig           Chain  1            197          0.00  .  .   \n",
       "7      P19438  DeepSig  Signal peptide  1             24          0.98  .  .   \n",
       "...       ...      ...             ... ..            ...           ... .. ..   \n",
       "52978  Q8IVQ6  DeepSig           Chain  1            265          0.00  .  .   \n",
       "52979  O48626  DeepSig           Chain  1            742          0.00  .  .   \n",
       "52980  P45972  DeepSig           Chain  1            705          0.00  .  .   \n",
       "52981  Q62394  DeepSig           Chain  1            352          0.00  .  .   \n",
       "52982  Q9ERU3  DeepSig           Chain  1            237          0.00  .  .   \n",
       "\n",
       "                          8  DeepSig_Preds  \n",
       "0      evidence=ECO:0000256              1  \n",
       "2      evidence=ECO:0000256              1  \n",
       "4      evidence=ECO:0000256              1  \n",
       "6      evidence=ECO:0000256              0  \n",
       "7      evidence=ECO:0000256              1  \n",
       "...                     ...            ...  \n",
       "52978  evidence=ECO:0000256              0  \n",
       "52979  evidence=ECO:0000256              0  \n",
       "52980  evidence=ECO:0000256              0  \n",
       "52981  evidence=ECO:0000256              0  \n",
       "52982  evidence=ECO:0000256              0  \n",
       "\n",
       "[52342 rows x 10 columns]"
      ]
     },
     "execution_count": 8,
     "metadata": {},
     "output_type": "execute_result"
    }
   ],
   "source": [
    "ds = pd.read_csv('../results/new_uniprot.deepsig', sep='\\t', header=None)\n",
    "ds = ds.drop_duplicates(0)\n",
    "ds.columns = ['Entry', 'Tool', 'Result', 3, 'Cleav_DeepSig', 'Prob_DeepSig', 6, 7, 8]\n",
    "ds['Prob_DeepSig'] = ds['Prob_DeepSig'].astype(float, errors='ignore').apply(lambda x: 0 if x == '.' else x)\n",
    "ds['DeepSig_Preds'] = ds['Result'].apply(lambda x: 1 if x =='Signal peptide' else 0)\n",
    "ds['Prob_DeepSig'] = ds['Prob_DeepSig'].astype(float)\n",
    "ds"
   ]
  },
  {
   "cell_type": "code",
   "execution_count": 110,
   "metadata": {},
   "outputs": [],
   "source": [
    "tmp3_ = pd.merge(tmp2, ds, on='Entry')"
   ]
  },
  {
   "cell_type": "code",
   "execution_count": 114,
   "metadata": {},
   "outputs": [],
   "source": [
    "tmp3 = tmp3_.copy()"
   ]
  },
  {
   "cell_type": "code",
   "execution_count": 111,
   "metadata": {},
   "outputs": [],
   "source": [
    "# secreted = pd.read_csv('../data/uniprot_new/uniprot-reviewed yes+keyword Secreted+[KW-0964].tab.gz', sep='\\t')\n",
    "# secreted = secreted[secreted['Signal peptide'].isna()]\n",
    "# tmp3 = tmp3_[tmp3_.Entry.apply(lambda x: x not in secreted.Entry.values)].copy()"
   ]
  },
  {
   "cell_type": "code",
   "execution_count": 115,
   "metadata": {},
   "outputs": [
    {
     "data": {
      "text/plain": [
       "0    52055\n",
       "1      287\n",
       "Name: Label, dtype: int64"
      ]
     },
     "execution_count": 115,
     "metadata": {},
     "output_type": "execute_result"
    }
   ],
   "source": [
    "tmp3.Label.value_counts()"
   ]
  },
  {
   "cell_type": "code",
   "execution_count": 116,
   "metadata": {},
   "outputs": [
    {
     "data": {
      "image/png": "[encoded data removed]",
      "text/plain": [
       "<Figure size 576x288 with 2 Axes>"
      ]
     },
     "metadata": {},
     "output_type": "display_data"
    }
   ],
   "source": [
    "cols = ['Prob_DeepSig', 'D', 'Median_Y', 'SP(Sec/SPI)', ]\n",
    "names = ['DeepSig', 'SignalP 4.1', 'Razor', 'SignalP 5.0', ]\n",
    "\n",
    "\n",
    "new = tmp3.copy()\n",
    "# new['Final_Predicted_Class'] = new['?'].apply(lambda x: 1 if x == 'Y' else 0)\n",
    "\n",
    "fig, ax = plt.subplots(nrows=1, ncols=2, figsize=(8, 4),)\n",
    "\n",
    "for i, v in enumerate(cols):\n",
    "\n",
    "    preds = new[v]\n",
    "    y = new['Label']\n",
    "\n",
    "    #Precision, recall\n",
    "    precision, recall, _ = precision_recall_curve(y, preds, )\n",
    "    lr_auc = auc(recall, precision)\n",
    "\n",
    "\n",
    "    #ROC\n",
    "\n",
    "    fpr, tpr, _ = roc_curve(y, preds)\n",
    "    roc_auc = auc(fpr, tpr)\n",
    "\n",
    "\n",
    "\n",
    "\n",
    "\n",
    "    sns.lineplot(x=fpr, y=tpr, label='{} (AUC={})'.format(names[i], round(roc_auc, 2)), ax=ax[0], lw=2)\n",
    "    #baseline\n",
    "    ax[0].plot([0, 1], [0, 1], color='navy', lw=1, linestyle='--')\n",
    "\n",
    "    sns.lineplot(x=recall, y=precision, label='{} (AUC={})'.format(names[i], round(lr_auc, 2)), ax=ax[1], lw=2)\n",
    "    #baseline\n",
    "    baseline = new.Label.value_counts()[1]/new.shape[0]\n",
    "\n",
    "    ax[1].axhline(y=baseline, color='navy', lw=1, linestyle='--')\n",
    "    ax[0].set_xlabel('FPR')\n",
    "    ax[0].set_ylabel('TPR')\n",
    "\n",
    "\n",
    "\n",
    "    ax[1].set_xlabel('Recall')\n",
    "    ax[1].set_ylabel('Precision')\n",
    "\n",
    "\n",
    "fig.tight_layout()\n",
    "# print('MCC = {}'.format(matthews_corrcoef(y, new['Final_Predicted_Class'])))\n",
    "# plt.savefig('../figs/Benchmark_SP_new_data.pdf', bbox_inches='tight', pad_inches=0);"
   ]
  },
  {
   "cell_type": "code",
   "execution_count": 117,
   "metadata": {},
   "outputs": [
    {
     "data": {
      "text/plain": [
       "<matplotlib.axes._subplots.AxesSubplot at 0x7ff878af6250>"
      ]
     },
     "execution_count": 117,
     "metadata": {},
     "output_type": "execute_result"
    },
    {
     "data": {
      "image/png": "[encoded data removed]",
      "text/plain": [
       "<Figure size 432x288 with 1 Axes>"
      ]
     },
     "metadata": {},
     "output_type": "display_data"
    }
   ],
   "source": [
    "for_mcc = ['Razor_Preds', 'SP4_Preds', 'SP5_Preds', 'DeepSig_Preds']\n",
    "mcc_df = pd.DataFrame(columns=['Razor', 'SignalP 4.1', 'SignalP 5.0', 'DeepSig'], index=['MCC'])\n",
    "\n",
    "new = tmp3.copy()\n",
    "\n",
    "for i, v in enumerate(mcc_df.columns):\n",
    "    mcc_df.loc['MCC', v] = matthews_corrcoef(new['Label'], new[for_mcc[i]])\n",
    "\n",
    "mcc_df.transpose().sort_values(by='MCC').plot(kind='bar')"
   ]
  },
  {
   "cell_type": "code",
   "execution_count": 118,
   "metadata": {},
   "outputs": [
    {
     "data": {
      "text/html": [
       "<div>\n",
       "<style scoped>\n",
       "    .dataframe tbody tr th:only-of-type {\n",
       "        vertical-align: middle;\n",
       "    }\n",
       "\n",
       "    .dataframe tbody tr th {\n",
       "        vertical-align: top;\n",
       "    }\n",
       "\n",
       "    .dataframe thead th {\n",
       "        text-align: right;\n",
       "    }\n",
       "</style>\n",
       "<table border=\"1\" class=\"dataframe\">\n",
       "  <thead>\n",
       "    <tr style=\"text-align: right;\">\n",
       "      <th></th>\n",
       "      <th>Razor</th>\n",
       "      <th>SignalP 4.1</th>\n",
       "      <th>SignalP 5.0</th>\n",
       "      <th>DeepSig</th>\n",
       "    </tr>\n",
       "  </thead>\n",
       "  <tbody>\n",
       "    <tr>\n",
       "      <th>MCC</th>\n",
       "      <td>0.40457</td>\n",
       "      <td>0.511022</td>\n",
       "      <td>0.571207</td>\n",
       "      <td>0.537475</td>\n",
       "    </tr>\n",
       "  </tbody>\n",
       "</table>\n",
       "</div>"
      ],
      "text/plain": [
       "       Razor SignalP 4.1 SignalP 5.0   DeepSig\n",
       "MCC  0.40457    0.511022    0.571207  0.537475"
      ]
     },
     "execution_count": 118,
     "metadata": {},
     "output_type": "execute_result"
    }
   ],
   "source": [
    "mcc_df"
   ]
  },
  {
   "cell_type": "code",
   "execution_count": null,
   "metadata": {},
   "outputs": [],
   "source": []
  },
  {
   "cell_type": "code",
   "execution_count": null,
   "metadata": {},
   "outputs": [],
   "source": []
  },
  {
   "cell_type": "code",
   "execution_count": null,
   "metadata": {},
   "outputs": [],
   "source": []
  },
  {
   "cell_type": "code",
   "execution_count": 119,
   "metadata": {},
   "outputs": [],
   "source": [
    "\n",
    "new = tmp3.copy()\n",
    "\n",
    "cleavage_precision = []\n",
    "cleavage_recall = []\n",
    "\n",
    "\n",
    "# Razor\n",
    "new['Diff'] = np.abs(new['Cleav'] - new['Median_Cleavage'].apply(lambda x: x[0]))\n",
    "false = new[new['Label'] == 0].copy()\n",
    "true = new[new['Label'] == 1].copy()\n",
    "\n",
    "false_p = false[false['Razor_Preds'] == 1].copy()\n",
    "true_n = false[false['Razor_Preds'] == 0].copy()\n",
    "\n",
    "false_n = true[true['Razor_Preds'] == 0].copy()\n",
    "true_p = true[true['Razor_Preds'] == 1].copy()\n",
    "\n",
    "\n",
    "\n",
    "csS_ = true_p.Diff.value_counts()\n",
    "csp = pd.DataFrame()\n",
    "csp['Distance around the\\nactual cleavage site'] = csS_.index.values\n",
    "csp['CS Precision'] = csS_.values/(new[new['Razor_Preds'] == 1].shape[0]) #true_p.shape[0]\n",
    "csp.sort_values(by='Distance around the\\nactual cleavage site', inplace=True)\n",
    "csp = csp.reset_index(drop=True)\n",
    "\n",
    "\n",
    "\n",
    "csS_ = true_p.Diff.value_counts()\n",
    "css = pd.DataFrame()\n",
    "css['Distance around the\\nactual cleavage site'] = csS_.index.values\n",
    "css['CS Recall'] = csS_.values/new.Label.value_counts()[1]\n",
    "css.sort_values(by='Distance around the\\nactual cleavage site', inplace=True)\n",
    "css = css.reset_index(drop=True)\n",
    "\n",
    "cleavage_precision.append(csp)\n",
    "cleavage_recall.append(css)\n",
    "\n",
    "\n",
    "# SignalP4\n",
    "new['Diff'] = np.abs(new['pos'] -1  - new['Cleav'])\n",
    "\n",
    "false = new[new['Label'] == 0].copy()\n",
    "true = new[new['Label'] == 1].copy()\n",
    "\n",
    "false_p = false[false['SP4_Preds'] == 1].copy()\n",
    "true_n = false[false['SP4_Preds'] == 0].copy()\n",
    "\n",
    "false_n = true[true['SP4_Preds'] == 0].copy()\n",
    "true_p = true[true['SP4_Preds'] == 1].copy()\n",
    "\n",
    "\n",
    "\n",
    "csS_ = true_p.Diff.value_counts()\n",
    "csp = pd.DataFrame()\n",
    "csp['Distance around the\\nactual cleavage site'] = csS_.index.values\n",
    "csp['CS Precision'] = csS_.values/(new[new['SP4_Preds'] == 1].shape[0]) #true_p.shape[0]\n",
    "csp.sort_values(by='Distance around the\\nactual cleavage site', inplace=True)\n",
    "csp = csp.reset_index(drop=True)\n",
    "\n",
    "\n",
    "\n",
    "csS_ = true_p.Diff.value_counts()\n",
    "css = pd.DataFrame()\n",
    "css['Distance around the\\nactual cleavage site'] = csS_.index.values\n",
    "css['CS Recall'] = csS_.values/new.Label.value_counts()[1]\n",
    "css.sort_values(by='Distance around the\\nactual cleavage site', inplace=True)\n",
    "css = css.reset_index(drop=True)\n",
    "\n",
    "cleavage_precision.append(csp)\n",
    "cleavage_recall.append(css)\n",
    "\n",
    "\n",
    "\n",
    "# SignalP5\n",
    "new['Diff'] = np.abs(new['Cleav_SP5']  - new['Cleav'])\n",
    "\n",
    "false = new[new['Label'] == 0].copy()\n",
    "true = new[new['Label'] == 1].copy()\n",
    "\n",
    "false_p = false[false['SP5_Preds'] == 1].copy()\n",
    "true_n = false[false['SP5_Preds'] == 0].copy()\n",
    "\n",
    "false_n = true[true['SP5_Preds'] == 0].copy()\n",
    "true_p = true[true['SP5_Preds'] == 1].copy()\n",
    "\n",
    "\n",
    "\n",
    "csS_ = true_p.Diff.value_counts()\n",
    "csp = pd.DataFrame()\n",
    "csp['Distance around the\\nactual cleavage site'] = csS_.index.values\n",
    "csp['CS Precision'] = csS_.values/(new[new['SP5_Preds'] == 1].shape[0]) #true_p.shape[0]\n",
    "csp.sort_values(by='Distance around the\\nactual cleavage site', inplace=True)\n",
    "csp = csp.reset_index(drop=True)\n",
    "\n",
    "\n",
    "\n",
    "csS_ = true_p.Diff.value_counts()\n",
    "css = pd.DataFrame()\n",
    "css['Distance around the\\nactual cleavage site'] = csS_.index.values\n",
    "css['CS Recall'] = csS_.values/new.Label.value_counts()[1]\n",
    "css.sort_values(by='Distance around the\\nactual cleavage site', inplace=True)\n",
    "css = css.reset_index(drop=True)\n",
    "\n",
    "cleavage_precision.append(csp)\n",
    "cleavage_recall.append(css)\n",
    "\n",
    "\n",
    "\n",
    "# DeepSig\n",
    "new['Diff'] = np.abs(new['Cleav_DeepSig'] - new['Cleav'])\n",
    "\n",
    "false = new[new['Label'] == 0].copy()\n",
    "true = new[new['Label'] == 1].copy()\n",
    "\n",
    "false_p = false[false['DeepSig_Preds'] == 1].copy()\n",
    "true_n = false[false['DeepSig_Preds'] == 0].copy()\n",
    "\n",
    "false_n = true[true['DeepSig_Preds'] == 0].copy()\n",
    "true_p = true[true['DeepSig_Preds'] == 1].copy()\n",
    "\n",
    "\n",
    "\n",
    "csS_ = true_p.Diff.value_counts()\n",
    "csp = pd.DataFrame()\n",
    "csp['Distance around the\\nactual cleavage site'] = csS_.index.values\n",
    "csp['CS Precision'] = csS_.values/(new[new['DeepSig_Preds'] == 1].shape[0]) #true_p.shape[0]\n",
    "csp.sort_values(by='Distance around the\\nactual cleavage site', inplace=True)\n",
    "csp = csp.reset_index(drop=True)\n",
    "\n",
    "\n",
    "\n",
    "csS_ = true_p.Diff.value_counts()\n",
    "css = pd.DataFrame()\n",
    "css['Distance around the\\nactual cleavage site'] = csS_.index.values\n",
    "css['CS Recall'] = csS_.values/new.Label.value_counts()[1]\n",
    "css.sort_values(by='Distance around the\\nactual cleavage site', inplace=True)\n",
    "css = css.reset_index(drop=True)\n",
    "\n",
    "cleavage_precision.append(csp)\n",
    "cleavage_recall.append(css)"
   ]
  },
  {
   "cell_type": "code",
   "execution_count": null,
   "metadata": {},
   "outputs": [],
   "source": []
  },
  {
   "cell_type": "code",
   "execution_count": 25,
   "metadata": {},
   "outputs": [
    {
     "data": {
      "image/png": "[encoded data removed]",
      "text/plain": [
       "<Figure size 936x72 with 1 Axes>"
      ]
     },
     "metadata": {},
     "output_type": "display_data"
    }
   ],
   "source": [
    "flatui = [\"#d32f2f\", \"#7b1fa2\",\"#039be5\", \"#00897b\", \"#43a047\",  \"#2ecc71\" ,\"#ffeb3b\",  \"#3498db\", \"#95a5a6\",  \"#34495e\", \"#3498db\", \"#95a5a6\",  \"#34495e\",]\n",
    "sns.palplot(flatui)"
   ]
  },
  {
   "cell_type": "code",
   "execution_count": null,
   "metadata": {},
   "outputs": [],
   "source": []
  },
  {
   "cell_type": "code",
   "execution_count": null,
   "metadata": {},
   "outputs": [],
   "source": []
  },
  {
   "cell_type": "code",
   "execution_count": null,
   "metadata": {},
   "outputs": [],
   "source": []
  },
  {
   "cell_type": "code",
   "execution_count": null,
   "metadata": {},
   "outputs": [],
   "source": []
  },
  {
   "cell_type": "code",
   "execution_count": 120,
   "metadata": {},
   "outputs": [
    {
     "data": {
      "image/png": "[encoded data removed]",
      "text/plain": [
       "<Figure size 864x504 with 6 Axes>"
      ]
     },
     "metadata": {},
     "output_type": "display_data"
    }
   ],
   "source": [
    "\n",
    "\n",
    "\n",
    "cols = ['Prob_DeepSig', 'D', 'Median_Y', 'SP(Sec/SPI)', ]\n",
    "names = ['DeepSig', 'SignalP 4.1', 'Razor', 'SignalP 5.0', ]\n",
    "\n",
    "\n",
    "new = tmp3.copy()\n",
    "# new['Final_Predicted_Class'] = new['?'].apply(lambda x: 1 if x == 'Y' else 0)\n",
    "\n",
    "fig, ax = plt.subplots(nrows=2, ncols=3, figsize=(12, 7),)\n",
    "axes = ax.flatten()\n",
    "\n",
    "for i, v in enumerate(cols):\n",
    "\n",
    "    preds = new[v]\n",
    "    y = new['Label']\n",
    "\n",
    "    #Precision, recall\n",
    "    precision, recall, _ = precision_recall_curve(y, preds, )\n",
    "    lr_auc = auc(recall, precision)\n",
    "\n",
    "\n",
    "    #ROC\n",
    "\n",
    "    fpr, tpr, _ = roc_curve(y, preds)\n",
    "    roc_auc = auc(fpr, tpr)\n",
    "\n",
    "\n",
    "\n",
    "\n",
    "\n",
    "    sns.lineplot(x=fpr, y=tpr, label='{} (AUC={})'.format(names[i], round(roc_auc, 2)), ax=axes[0], lw=2)\n",
    "    #baseline\n",
    "    axes[0].plot([0, 1], [0, 1], color='navy', lw=1, linestyle='--')\n",
    "\n",
    "    sns.lineplot(x=recall, y=precision, label='{} (AUC={})'.format(names[i], round(lr_auc, 2)), ax=axes[1], lw=2)\n",
    "    #baseline\n",
    "    baseline = new.Label.value_counts()[1]/new.shape[0]\n",
    "\n",
    "    axes[1].axhline(y=baseline, color='navy', lw=1, linestyle='--')\n",
    "    axes[0].set_xlabel('FPR')\n",
    "    axes[0].set_ylabel('TPR')\n",
    "\n",
    "\n",
    "\n",
    "    axes[1].set_xlabel('Recall')\n",
    "    axes[1].set_ylabel('Precision')\n",
    "\n",
    "\n",
    "# fig.tight_layout()\n",
    "# # print('MCC = {}'.format(matthews_corrcoef(y, new['Final_Predicted_Class'])))\n",
    "# plt.savefig('../figs/Benchmark_SP_new_data.pdf', bbox_inches='tight', pad_inches=0);\n",
    "\n",
    "\n",
    "\n",
    "\n",
    "\n",
    "\n",
    "\n",
    "\n",
    "\n",
    "\n",
    "\n",
    "\n",
    "\n",
    "\n",
    "\n",
    "\n",
    "\n",
    "barplt = pd.DataFrame(columns=['MCC detection', 'CS precision', 'CS recall'],\\\n",
    "                      index=['Razor', 'SignalP 5.0', 'SignalP 4.1', 'DeepSig'])\n",
    "# barplt.loc['RAZOR'] = [np.max(mcc), csp['CS Precision'].cumsum().round(3)[0], css['CS Recall'].cumsum().round(3)[0]]\n",
    "barplt.loc['Razor'] = [mcc_df.loc['MCC', 'Razor'], \\\n",
    "                       cleavage_precision[0]['CS Precision'].cumsum().round(3)[0], \\\n",
    "                       cleavage_recall[0]['CS Recall'].cumsum().round(3)[0]]\n",
    "\n",
    "\n",
    "barplt.loc['SignalP 4.1'] = [mcc_df.loc['MCC', 'SignalP 4.1'], \\\n",
    "                       cleavage_precision[1]['CS Precision'].cumsum().round(3)[0], \\\n",
    "                       cleavage_recall[1]['CS Recall'].cumsum().round(3)[0]]\n",
    "barplt.loc['SignalP 5.0'] = [mcc_df.loc['MCC', 'SignalP 5.0'], \\\n",
    "                       cleavage_precision[2]['CS Precision'].cumsum().round(3)[0], \\\n",
    "                       cleavage_recall[2]['CS Recall'].cumsum().round(3)[0]]\n",
    "barplt.loc['DeepSig'] = [mcc_df.loc['MCC', 'DeepSig'], \\\n",
    "                       cleavage_precision[3]['CS Precision'].cumsum().round(3)[0], \\\n",
    "                       cleavage_recall[3]['CS Recall'].cumsum().round(3)[0]]\n",
    "# barplt.loc['DeepSig'] = [0.819, 0.604, 0.624]\n",
    "\n",
    "# fig, ax = plt.subplots(nrows=1, ncols=3, figsize=(12, 4),)\n",
    "sns.set_context(\"paper\", font_scale=1.5)\n",
    "flatui = [\"#d32f2f\", \"#7b1fa2\",\"#039be5\", \"#00897b\", \"#43a047\",  \"#2ecc71\" ,\"#ffeb3b\",  \"#3498db\", \"#95a5a6\",  \"#34495e\", \"#3498db\", \"#95a5a6\",  \"#34495e\",]\n",
    "\n",
    "\n",
    "# sns.set_palette(flatui)\n",
    "barplt.sort_values(ascending=False, by='MCC detection').plot(kind='bar', \\\n",
    "                                                                ax=axes[3], \\\n",
    "                                                                color=[\"#34495e\", \"#3498db\", \"#95a5a6\",],\\\n",
    "                                                            )#.legend(loc='lower left', facecolor='white', framealpha=1);\n",
    "\n",
    "\n",
    "axes[3].set(ylim=(0.0, 1))\n",
    "\n",
    "sns.lineplot(x=csp['Distance around the\\nactual cleavage site'][:4],\\\n",
    "             y=cleavage_precision[3]['CS Precision'].cumsum()[:4], ax=axes[4], lw=1.5, marker=\"o\")\n",
    "sns.lineplot(x=csp['Distance around the\\nactual cleavage site'][:4],\\\n",
    "             y=cleavage_precision[1]['CS Precision'].cumsum()[:4], \\\n",
    "              ax=axes[4], lw=1.5, marker=\"o\")\n",
    "sns.lineplot(x=csp['Distance around the\\nactual cleavage site'][:4],\\\n",
    "             y=cleavage_precision[0]['CS Precision'].cumsum()[:4],\\\n",
    "              ax=axes[4], lw=1.5, marker=\"o\")\n",
    "# sns.lineplot(x=csp['Distance around the\\nactual cleavage site'][:4], y=[0.671, 0.702, 0.732, 0.732], color=flatui[1], ax=ax[1], lw=1.5, marker=\"o\")\n",
    "\n",
    "sns.lineplot(x=csp['Distance around the\\nactual cleavage site'][:4],\\\n",
    "             y=cleavage_precision[2]['CS Precision'].cumsum()[:4],  ax=axes[4], lw=1.5, marker=\"o\")\n",
    "\n",
    "\n",
    "# sns.lineplot(x=csp['Distance around the\\nactual cleavage site'][:4], y=[0.604, 0.631, 0.668, 0.700], color=flatui[3], ax=ax[1], lw=1.5, marker=\"o\")\n",
    "axes[4].set(ylim=(0.0, 1))\n",
    "# \n",
    "\n",
    "sns.lineplot(x=css['Distance around the\\nactual cleavage site'][:4],\\\n",
    "             y=cleavage_recall[3]['CS Recall'].cumsum()[:4],\\\n",
    "             label='DeepSig', ax=axes[5], lw=1.5, marker=\"o\")\n",
    "sns.lineplot(x=css['Distance around the\\nactual cleavage site'][:4],\\\n",
    "             y=cleavage_recall[1]['CS Recall'].cumsum()[:4],\\\n",
    "             label='SignalP 4.1',  ax=axes[5], lw=1.5, marker=\"o\")\n",
    "sns.lineplot(x=css['Distance around the\\nactual cleavage site'][:4],\\\n",
    "             y=cleavage_recall[0]['CS Recall'].cumsum()[:4], ax=axes[5],\\\n",
    "              lw=1.5, label='Razor', marker=\"o\")\n",
    "# sns.lineplot(x=css['Distance around the\\nactual cleavage site'][:4], y=[0.729, 0.762, 0.795, 0.833], label='SignalP 5.0', color=flatui[1], ax=ax[2], lw=1.5, marker=\"o\")\n",
    "\n",
    "sns.lineplot(x=css['Distance around the\\nactual cleavage site'][:4],\\\n",
    "             y=cleavage_recall[2]['CS Recall'].cumsum()[:4],\\\n",
    "             label='SignalP 5.0', ax=axes[5], lw=1.5, marker=\"o\")\n",
    "\n",
    "\n",
    "# sns.lineplot(x=css['Distance around the\\nactual cleavage site'][:4], y=[0.624, 0.652, 0.690, 0.724], label='DeepSig', color=flatui[3], ax=ax[2], lw=1.5, marker=\"o\")\n",
    "axes[5].set(ylim=(0.0, 1))\n",
    "\n",
    "plt.legend(bbox_to_anchor=(1.05, 1), loc=2, borderaxespad=0.)\n",
    "\n",
    "\n",
    "\n",
    "plt.tight_layout();\n",
    "# plt.savefig('../figs/new_benchmarking_cleavage_sites_all.pdf',  bbox_inches='tight', pad_inches=0)"
   ]
  },
  {
   "cell_type": "code",
   "execution_count": 122,
   "metadata": {},
   "outputs": [
    {
     "data": {
      "text/html": [
       "<div>\n",
       "<style scoped>\n",
       "    .dataframe tbody tr th:only-of-type {\n",
       "        vertical-align: middle;\n",
       "    }\n",
       "\n",
       "    .dataframe tbody tr th {\n",
       "        vertical-align: top;\n",
       "    }\n",
       "\n",
       "    .dataframe thead th {\n",
       "        text-align: right;\n",
       "    }\n",
       "</style>\n",
       "<table border=\"1\" class=\"dataframe\">\n",
       "  <thead>\n",
       "    <tr style=\"text-align: right;\">\n",
       "      <th></th>\n",
       "      <th>MCC detection</th>\n",
       "      <th>CS precision</th>\n",
       "      <th>CS recall</th>\n",
       "    </tr>\n",
       "  </thead>\n",
       "  <tbody>\n",
       "    <tr>\n",
       "      <th>Razor</th>\n",
       "      <td>0.40457</td>\n",
       "      <td>0.136</td>\n",
       "      <td>0.596</td>\n",
       "    </tr>\n",
       "    <tr>\n",
       "      <th>SignalP 5.0</th>\n",
       "      <td>0.571207</td>\n",
       "      <td>0.287</td>\n",
       "      <td>0.704</td>\n",
       "    </tr>\n",
       "    <tr>\n",
       "      <th>SignalP 4.1</th>\n",
       "      <td>0.511022</td>\n",
       "      <td>0.229</td>\n",
       "      <td>0.693</td>\n",
       "    </tr>\n",
       "    <tr>\n",
       "      <th>DeepSig</th>\n",
       "      <td>0.537475</td>\n",
       "      <td>0.237</td>\n",
       "      <td>0.53</td>\n",
       "    </tr>\n",
       "  </tbody>\n",
       "</table>\n",
       "</div>"
      ],
      "text/plain": [
       "            MCC detection CS precision CS recall\n",
       "Razor             0.40457        0.136     0.596\n",
       "SignalP 5.0      0.571207        0.287     0.704\n",
       "SignalP 4.1      0.511022        0.229     0.693\n",
       "DeepSig          0.537475        0.237      0.53"
      ]
     },
     "execution_count": 122,
     "metadata": {},
     "output_type": "execute_result"
    }
   ],
   "source": [
    "barplt"
   ]
  },
  {
   "cell_type": "code",
   "execution_count": 124,
   "metadata": {},
   "outputs": [
    {
     "name": "stdout",
     "output_type": "stream",
     "text": [
      "Razor\n",
      "0    0.136\n",
      "1    0.150\n",
      "2    0.164\n",
      "3    0.171\n",
      "Name: CS Precision, dtype: float64\n",
      "SignalP 4.1\n",
      "0    0.229\n",
      "1    0.247\n",
      "2    0.260\n",
      "3    0.266\n",
      "Name: CS Precision, dtype: float64\n",
      "SignalP 5.0\n",
      "0    0.287\n",
      "1    0.306\n",
      "2    0.330\n",
      "3    0.340\n",
      "Name: CS Precision, dtype: float64\n",
      "DeepSig\n",
      "0    0.237\n",
      "1    0.261\n",
      "2    0.301\n",
      "3    0.310\n",
      "Name: CS Precision, dtype: float64\n"
     ]
    }
   ],
   "source": [
    "names = ['Razor', 'SignalP 4.1', 'SignalP 5.0', 'DeepSig']\n",
    "for i, v in enumerate(cleavage_precision):\n",
    "    print(names[i])\n",
    "    print(v['CS Precision'].cumsum()[:4].round(3))"
   ]
  },
  {
   "cell_type": "code",
   "execution_count": 123,
   "metadata": {},
   "outputs": [
    {
     "name": "stdout",
     "output_type": "stream",
     "text": [
      "Razor\n",
      "0    0.596\n",
      "1    0.655\n",
      "2    0.718\n",
      "3    0.746\n",
      "Name: CS Recall, dtype: float64\n",
      "SignalP 4.1\n",
      "0    0.693\n",
      "1    0.746\n",
      "2    0.787\n",
      "3    0.805\n",
      "Name: CS Recall, dtype: float64\n",
      "SignalP 5.0\n",
      "0    0.704\n",
      "1    0.749\n",
      "2    0.808\n",
      "3    0.833\n",
      "Name: CS Recall, dtype: float64\n",
      "DeepSig\n",
      "0    0.530\n",
      "1    0.582\n",
      "2    0.672\n",
      "3    0.693\n",
      "Name: CS Recall, dtype: float64\n"
     ]
    }
   ],
   "source": [
    "names = ['Razor', 'SignalP 4.1', 'SignalP 5.0', 'DeepSig']\n",
    "for i, v in enumerate(cleavage_recall):\n",
    "    print(names[i])\n",
    "    print(v['CS Recall'].cumsum()[:4].round(3))"
   ]
  },
  {
   "cell_type": "code",
   "execution_count": 39,
   "metadata": {},
   "outputs": [
    {
     "data": {
      "text/plain": [
       "0    45675\n",
       "1      287\n",
       "Name: Label, dtype: int64"
      ]
     },
     "execution_count": 39,
     "metadata": {},
     "output_type": "execute_result"
    }
   ],
   "source": [
    "tmp3.Label.value_counts()"
   ]
  },
  {
   "cell_type": "code",
   "execution_count": 126,
   "metadata": {},
   "outputs": [],
   "source": [
    "tmp3[['Entry', 'Label']].reset_index(drop=True).to_csv('../results/benchmark_sp_new.csv.gz',\\\n",
    "                                                                                      index=None)"
   ]
  },
  {
   "cell_type": "code",
   "execution_count": 41,
   "metadata": {},
   "outputs": [
    {
     "data": {
      "text/plain": [
       "(0.141, 0.596)"
      ]
     },
     "execution_count": 41,
     "metadata": {},
     "output_type": "execute_result"
    }
   ],
   "source": [
    "cleavage_precision[0]['CS Precision'].cumsum().round(3)[0], \\\n",
    "cleavage_recall[0]['CS Recall'].cumsum().round(3)[0]"
   ]
  },
  {
   "cell_type": "code",
   "execution_count": null,
   "metadata": {},
   "outputs": [],
   "source": []
  },
  {
   "cell_type": "code",
   "execution_count": 22,
   "metadata": {},
   "outputs": [
    {
     "name": "stdout",
     "output_type": "stream",
     "text": [
      "681 out of 287 predicted as SP by SP5_Preds.\n",
      "846 out of 287 predicted as SP by SP4_Preds.\n",
      "568 out of 287 predicted as SP by DeepSig_Preds.\n",
      "1212 out of 287 predicted as SP by Razor_Preds.\n"
     ]
    }
   ],
   "source": [
    "for i, v in enumerate(['SP5_Preds', 'SP4_Preds', 'DeepSig_Preds', 'Razor_Preds']):\n",
    "    print('{} out of {} predicted as SP by {}.'.format(new[new[v] == 1].shape[0], new.Label.value_counts()[1], v))"
   ]
  },
  {
   "cell_type": "code",
   "execution_count": 23,
   "metadata": {},
   "outputs": [
    {
     "name": "stdout",
     "output_type": "stream",
     "text": [
      "258 out of 681 predictions by SP5_Preds are correct.\n",
      "257 out of 846 predictions by SP4_Preds are correct.\n",
      "232 out of 568 predictions by DeepSig_Preds are correct.\n",
      "246 out of 1212 predictions by Razor_Preds are correct.\n"
     ]
    }
   ],
   "source": [
    "for i, v in enumerate(['SP5_Preds', 'SP4_Preds', 'DeepSig_Preds', 'Razor_Preds']):\n",
    "    print('{} out of {} predictions by {} are correct.'.format(true[true[v] == 1].shape[0], \\\n",
    "                                      new[new[v] == 1].shape[0], v))"
   ]
  },
  {
   "cell_type": "code",
   "execution_count": null,
   "metadata": {},
   "outputs": [],
   "source": []
  },
  {
   "cell_type": "code",
   "execution_count": null,
   "metadata": {},
   "outputs": [],
   "source": []
  },
  {
   "cell_type": "code",
   "execution_count": null,
   "metadata": {},
   "outputs": [],
   "source": []
  },
  {
   "cell_type": "code",
   "execution_count": null,
   "metadata": {},
   "outputs": [],
   "source": []
  },
  {
   "cell_type": "code",
   "execution_count": null,
   "metadata": {},
   "outputs": [],
   "source": []
  },
  {
   "cell_type": "code",
   "execution_count": null,
   "metadata": {},
   "outputs": [],
   "source": []
  }
 ],
 "metadata": {
  "kernelspec": {
   "display_name": "Python 3",
   "language": "python",
   "name": "python3"
  },
  "language_info": {
   "codemirror_mode": {
    "name": "ipython",
    "version": 3
   },
   "file_extension": ".py",
   "mimetype": "text/x-python",
   "name": "python",
   "nbconvert_exporter": "python",
   "pygments_lexer": "ipython3",
   "version": "3.6.9"
  }
 },
 "nbformat": 4,
 "nbformat_minor": 4
}
