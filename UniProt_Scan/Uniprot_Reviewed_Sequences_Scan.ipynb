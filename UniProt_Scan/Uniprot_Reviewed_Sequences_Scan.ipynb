{
 "cells": [
  {
   "cell_type": "code",
   "execution_count": 3,
   "metadata": {},
   "outputs": [],
   "source": [
    "import pandas as pd\n",
    "from functools import partial\n",
    "from multiprocessing import Pool, cpu_count\n",
    "\n",
    "\n",
    "\n",
    "def fasta_reader(file):\n",
    "    '''Converts .fasta to a pandas dataframe with accession as index\n",
    "    and Protein in a column 'Protein'\n",
    "    '''\n",
    "    fasta_df = pd.read_csv(file, sep='>', lineterminator='>', header=None,\\\n",
    "                          )\n",
    "    fasta_df[['Accession', 'Protein']] = fasta_df[0].str.split('\\n', 1, \\\n",
    "                                        expand=True)\n",
    "\n",
    "    fasta_df['Accession'] = fasta_df['Accession']\n",
    "    fasta_df['Protein'] = fasta_df['Protein'].replace('\\n', '', regex=True).\\\n",
    "                            astype(str).str.upper().replace('U', 'T')\n",
    "    total_seq = fasta_df.shape[0]\n",
    "    fasta_df.drop(0, axis=1, inplace=True)\n",
    "\n",
    "    fasta_df = fasta_df[fasta_df.Protein != '']\n",
    "    fasta_df = fasta_df[fasta_df.Protein != 'NONE']\n",
    "    final_df = fasta_df.dropna()\n",
    "    remained_seq = final_df.shape[0]\n",
    "    if total_seq != remained_seq:\n",
    "        warnings.warn(\"{} Proteins were removed due to inconsistencies in\"\n",
    "                      \"provided file.\".format(total_seq-remained_seq))\n",
    "    return final_df\n",
    "\n",
    "def progress(iteration, total, message=None):\n",
    "    '''Simple progressbar\n",
    "    '''\n",
    "    if message is None:\n",
    "        message = ''\n",
    "    bars_string = int(float(iteration) / float(total) * 50.)\n",
    "    print(\"\\r|%-50s| %d%% (%s/%s) %s \"% ('█'*bars_string+ \"░\" * \\\n",
    "                                     (50 - bars_string), float(iteration)/\\\n",
    "                                     float(total) * 100, iteration, total, \\\n",
    "                                     message), end='\\r', flush=True)\n",
    "\n",
    "    if iteration == total:\n",
    "        print('\\nCompleted!')\n",
    "\n",
    "def predict(obj):\n",
    "    res = obj.predict()\n",
    "    try:\n",
    "        f = obj.fungi()\n",
    "    except Exception:\n",
    "        f = ['Not a Signal peptide']\n",
    "        \n",
    "    try:\n",
    "        t = obj.toxin()\n",
    "    except Exception:\n",
    "        t = ['Not a Signal peptide']\n",
    "\n",
    "    return res +  f + t\n",
    "\n",
    "\n",
    "import time\n",
    "import warnings\n",
    "warnings.filterwarnings(\"ignore\")\n",
    "\n",
    "from razor import RAZOR"
   ]
  },
  {
   "cell_type": "code",
   "execution_count": null,
   "metadata": {},
   "outputs": [],
   "source": []
  },
  {
   "cell_type": "code",
   "execution_count": 4,
   "metadata": {},
   "outputs": [],
   "source": [
    "rev_df_ = fasta_reader('../data/uniprot/uniprot-reviewed_yes.fasta.gz')\n",
    "rev_df = rev_df_[~rev_df_.Protein.str[:75].str.contains('B|J|O|X|Z')].copy()"
   ]
  },
  {
   "cell_type": "code",
   "execution_count": 6,
   "metadata": {},
   "outputs": [],
   "source": [
    "seqs_obj = [RAZOR(x, 60) for x in rev_df.Protein]"
   ]
  },
  {
   "cell_type": "code",
   "execution_count": 7,
   "metadata": {},
   "outputs": [
    {
     "name": "stdout",
     "output_type": "stream",
     "text": [
      "|██████████░░░░░░░░░░░░░░░░░░░░░░░░░░░░░░░░░░░░░░░░| 21% (120597/561776)  \r"
     ]
    },
    {
     "name": "stderr",
     "output_type": "stream",
     "text": [
      "IOPub message rate exceeded.\n",
      "The notebook server will temporarily stop sending output\n",
      "to the client in order to avoid crashing it.\n",
      "To change this limit, set the config variable\n",
      "`--NotebookApp.iopub_msg_rate_limit`.\n",
      "\n",
      "Current values:\n",
      "NotebookApp.iopub_msg_rate_limit=1000.0 (msgs/sec)\n",
      "NotebookApp.rate_limit_window=3.0 (secs)\n",
      "\n"
     ]
    },
    {
     "name": "stdout",
     "output_type": "stream",
     "text": [
      "|███████████░░░░░░░░░░░░░░░░░░░░░░░░░░░░░░░░░░░░░░░| 22% (124408/561776)  \r"
     ]
    },
    {
     "name": "stderr",
     "output_type": "stream",
     "text": [
      "IOPub message rate exceeded.\n",
      "The notebook server will temporarily stop sending output\n",
      "to the client in order to avoid crashing it.\n",
      "To change this limit, set the config variable\n",
      "`--NotebookApp.iopub_msg_rate_limit`.\n",
      "\n",
      "Current values:\n",
      "NotebookApp.iopub_msg_rate_limit=1000.0 (msgs/sec)\n",
      "NotebookApp.rate_limit_window=3.0 (secs)\n",
      "\n"
     ]
    },
    {
     "name": "stdout",
     "output_type": "stream",
     "text": [
      "|███████████░░░░░░░░░░░░░░░░░░░░░░░░░░░░░░░░░░░░░░░| 22% (128191/561776)  \r"
     ]
    },
    {
     "name": "stderr",
     "output_type": "stream",
     "text": [
      "IOPub message rate exceeded.\n",
      "The notebook server will temporarily stop sending output\n",
      "to the client in order to avoid crashing it.\n",
      "To change this limit, set the config variable\n",
      "`--NotebookApp.iopub_msg_rate_limit`.\n",
      "\n",
      "Current values:\n",
      "NotebookApp.iopub_msg_rate_limit=1000.0 (msgs/sec)\n",
      "NotebookApp.rate_limit_window=3.0 (secs)\n",
      "\n"
     ]
    },
    {
     "name": "stdout",
     "output_type": "stream",
     "text": [
      "|███████████░░░░░░░░░░░░░░░░░░░░░░░░░░░░░░░░░░░░░░░| 23% (133382/561776)  \r"
     ]
    },
    {
     "name": "stderr",
     "output_type": "stream",
     "text": [
      "IOPub message rate exceeded.\n",
      "The notebook server will temporarily stop sending output\n",
      "to the client in order to avoid crashing it.\n",
      "To change this limit, set the config variable\n",
      "`--NotebookApp.iopub_msg_rate_limit`.\n",
      "\n",
      "Current values:\n",
      "NotebookApp.iopub_msg_rate_limit=1000.0 (msgs/sec)\n",
      "NotebookApp.rate_limit_window=3.0 (secs)\n",
      "\n"
     ]
    },
    {
     "name": "stdout",
     "output_type": "stream",
     "text": [
      "|██████████████████████████████████████████████████| 100% (561776/561776)  \n",
      "Completed!\n",
      "--- 1853.5031402111053 seconds --- for 561776 sequences.\n",
      " 303.088757 sequences per second\n"
     ]
    }
   ],
   "source": [
    "\n",
    "\n",
    "\n",
    "start_time = time.time()\n",
    "pools = Pool(cpu_count()//2)\n",
    "results = []\n",
    "for res in pools.imap(predict, seqs_obj):\n",
    "    results.append(res)\n",
    "    progress(len(results), len(seqs_obj))\n",
    "pools.close()\n",
    "pools.join()\n",
    "print(\"--- %s seconds --- for %d sequences.\\n %f sequences per second\"%(time.time() - start_time, rev_df.shape[0], \\\n",
    "                                             rev_df.shape[0]/(time.time() - start_time)))\n"
   ]
  },
  {
   "cell_type": "code",
   "execution_count": 8,
   "metadata": {},
   "outputs": [],
   "source": [
    "rev_df['Preds'] = results\n",
    "rev_df.to_pickle('uniprot_reviewed_scored_0_57.pkl.gz')"
   ]
  },
  {
   "cell_type": "code",
   "execution_count": null,
   "metadata": {},
   "outputs": [],
   "source": []
  },
  {
   "cell_type": "code",
   "execution_count": null,
   "metadata": {},
   "outputs": [],
   "source": []
  },
  {
   "cell_type": "code",
   "execution_count": null,
   "metadata": {},
   "outputs": [],
   "source": []
  }
 ],
 "metadata": {
  "kernelspec": {
   "display_name": "Python 3",
   "language": "python",
   "name": "python3"
  },
  "language_info": {
   "codemirror_mode": {
    "name": "ipython",
    "version": 3
   },
   "file_extension": ".py",
   "mimetype": "text/x-python",
   "name": "python",
   "nbconvert_exporter": "python",
   "pygments_lexer": "ipython3",
   "version": "3.7.6"
  }
 },
 "nbformat": 4,
 "nbformat_minor": 4
}
