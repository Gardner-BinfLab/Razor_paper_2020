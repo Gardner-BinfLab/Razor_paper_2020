{
 "cells": [
  {
   "cell_type": "code",
   "execution_count": 1,
   "metadata": {},
   "outputs": [],
   "source": [
    "import os\n",
    "\n",
    "root_dir = os.path.abspath(os.path.join(os.getcwd(), \"../\"))\n",
    "os.chdir(root_dir)"
   ]
  },
  {
   "cell_type": "code",
   "execution_count": 2,
   "metadata": {},
   "outputs": [],
   "source": [
    "# import io\n",
    "import numpy as np\n",
    "import seaborn as sns\n",
    "import matplotlib.pyplot as plt\n",
    "import matplotlib.cm as cm\n",
    "import pandas as pd\n",
    "sns.set_style(\"whitegrid\")\n",
    "sns.set_context(\"paper\", font_scale=1.4)\n",
    "sns.set_palette(\"Set1\")\n",
    "import functions\n",
    "from IsoelectricPoint import IsoelectricPoint\n",
    "\n",
    "from multiprocessing import Pool\n",
    "from functools import partial\n",
    "\n",
    "from sklearn.metrics import roc_curve, auc\n",
    "from sklearn.metrics import precision_recall_curve\n",
    "from sklearn.ensemble import RandomForestClassifier\n",
    "from sklearn.metrics import matthews_corrcoef\n",
    "# from Bio.SeqUtils.ProtParam import ProteinAnalysis\n",
    "\n",
    "# from ipywidgets import interact\n",
    "# import ipywidgets as widgets\n",
    "from scipy.signal import savgol_filter\n",
    "\n",
    "%load_ext autoreload\n",
    "%autoreload 2\n",
    "\n",
    "\n",
    "\n",
    "# Kyte & Doolittle index of hydrophobicity\n",
    "# J. Mol. Biol. 157:105-132(1982).\n",
    "kd = {\"A\": 1.8, \"R\": -4.5, \"N\": -3.5, \"D\": -3.5, \"C\": 2.5,\n",
    "      \"Q\": -3.5, \"E\": -3.5, \"G\": -0.4, \"H\": -3.2, \"I\": 4.5,\n",
    "      \"L\": 3.8, \"K\": -3.9, \"M\": 1.9, \"F\": 2.8, \"P\": -1.6,\n",
    "      \"S\": -0.8, \"T\": -0.7, \"W\": -0.9, \"Y\": -1.3, \"V\": 4.2}\n",
    "\n",
    "#Sort kd\n",
    "kd = {k: v for k, v in sorted(kd.items(), key=lambda item: item[1])}\n",
    "\n",
    "# Flexibility\n",
    "# Normalized flexibility parameters (B-values), average\n",
    "# Vihinen M., Torkkila E., Riikonen P. Proteins. 19(2):141-9(1994).\n",
    "flexibilities_vih = {\"A\": 0.984, \"C\": 0.906, \"E\": 1.094, \"D\": 1.068,\n",
    "\"G\": 1.031, \"F\": 0.915, \"I\": 0.927, \"H\": 0.950,\n",
    "\"K\": 1.102, \"M\": 0.952, \"L\": 0.935, \"N\": 1.048,\n",
    "\"Q\": 1.037, \"P\": 1.049, \"S\": 1.046, \"R\": 1.008,\n",
    "\"T\": 0.997, \"W\": 0.904, \"V\": 0.931, \"Y\": 0.929}\n",
    "\n",
    "\n",
    "\n",
    "\n",
    "def flex(seq):\n",
    "    seq = seq.replace('U', 'C')\n",
    "    if len(seq) == 0:\n",
    "        return 0\n",
    "    else:\n",
    "        return [flexibilities_vih[i] for i in seq]\n",
    "\n",
    "def gravy(seq):\n",
    "    seq = seq.replace('U', 'C')\n",
    "    if len(seq) == 0:\n",
    "        return 0\n",
    "    else:\n",
    "        return np.mean([kd[i] for i in seq])\n",
    "\n",
    "def hydrop(seq):\n",
    "    seq = seq.replace('U', 'C')\n",
    "    return [kd[i] for i in seq]\n",
    "\n",
    "def filt(seq, w=15, p=2):\n",
    "    seq = seq.replace('U', 'C')\n",
    "    aa = hydrop(seq)\n",
    "    return savgol_filter(aa, w, p)\n",
    "\n",
    "aa = [k for k, v in kd.items()]\n",
    "\n",
    "\n",
    "def progress(iteration, total, message=None):\n",
    "    '''Simple progressbar\n",
    "    '''\n",
    "    if message is None:\n",
    "        message = ''\n",
    "    bars_string = int(float(iteration) / float(total) * 50.)\n",
    "    print(\"\\r|%-50s| %d%% (%s/%s) %s \"% ('█'*bars_string+ \"░\" * \\\n",
    "                                     (50 - bars_string), float(iteration)/\\\n",
    "                                     float(total) * 100, iteration, total, \\\n",
    "                                     message), end='\\r', flush=True)\n",
    "\n",
    "    if iteration == total:\n",
    "        print('\\nCompleted!')\n",
    "\n",
    "def make_feat(seq):\n",
    "    hydro = hydrop(seq)\n",
    "    swi = functions.solubility_score(seq)\n",
    "    fl = flex(seq)\n",
    "    turn = [seq.count(i) for i in 'NPGS']\n",
    "#     hel = [seq.count(i) for i in 'VIYFWL']\n",
    "#     iso = [IsoelectricPoint(seq).pi()]\n",
    "\n",
    "\n",
    "    return  hydro + swi + fl + turn"
   ]
  },
  {
   "cell_type": "code",
   "execution_count": null,
   "metadata": {},
   "outputs": [],
   "source": []
  },
  {
   "cell_type": "code",
   "execution_count": 3,
   "metadata": {},
   "outputs": [],
   "source": [
    "df = pd.read_pickle('results/toxin_nontoxin.pkl.gz')\n",
    "df = df.sample(frac=1, random_state=12345)"
   ]
  },
  {
   "cell_type": "code",
   "execution_count": 4,
   "metadata": {},
   "outputs": [],
   "source": [
    "ll = np.arange(5)\n",
    "\n",
    "df['Feat'] = df['Protein'].str[:23].apply(make_feat)\n",
    "\n",
    "dfs = np.array_split(df, 5)\n"
   ]
  },
  {
   "cell_type": "code",
   "execution_count": null,
   "metadata": {},
   "outputs": [],
   "source": []
  },
  {
   "cell_type": "code",
   "execution_count": 5,
   "metadata": {},
   "outputs": [
    {
     "name": "stdout",
     "output_type": "stream",
     "text": [
      "|██████████████████████████████████████████████████| 100% (5/5)  \n",
      "Completed!\n",
      "Max MCC for round 1 is 0.593\n",
      "Max MCC for round 2 is 0.745\n",
      "Max MCC for round 3 is 0.741\n",
      "Max MCC for round 4 is 0.775\n",
      "Max MCC for round 5 is 0.664\n"
     ]
    }
   ],
   "source": [
    "cv_results = pd.DataFrame(columns=['Test', 'Train', 'Classifier', \\\n",
    "                                  'Precision', 'Recall', 'PR_AUC', \\\n",
    "                                  'FPR', 'TPR', 'ROC_AUC', 'MCC', 'Threshold'], index=np.arange(1, 6))\n",
    "mccs = []\n",
    "\n",
    "for j in range(5):\n",
    "    test_idx = j\n",
    "    train_idx = list(set(ll) - set([j]))\n",
    "    \n",
    "    test = dfs[j].copy()\n",
    "    train = pd.concat([dfs[i] for i in train_idx]).copy()\n",
    "\n",
    "    train = train.reset_index(drop=True)\n",
    "    train = train.sample(frac=1, random_state=12345).copy()\n",
    "    \n",
    "    #Making random forest\n",
    "    \n",
    "    \n",
    "    \n",
    "    X_train = [i for i in train['Feat']]\n",
    "    y_train = train['Label'].values\n",
    "    \n",
    "    X_test = [i for i in test['Feat']]\n",
    "    y_test = test['Label'].values\n",
    "    \n",
    "    \n",
    "    cv_results.loc[j+1]['Train'] = [X_train, y_train]\n",
    "    cv_results.loc[j+1]['Test'] = [X_test, y_test]\n",
    "    \n",
    "    clf = RandomForestClassifier(random_state=12345)\n",
    "    clf.fit(X_train, y_train)\n",
    "\n",
    "    cv_results.loc[j+1]['Classifier'] = clf\n",
    "\n",
    "\n",
    "    preds = [i[1] for i in clf.predict_proba(X_test)]\n",
    "    dfs[j]['SP_Prediction'] = preds\n",
    "\n",
    "    #Precision, recall\n",
    "#     precision, recall, _ = precision_recall_curve(y_test, preds, )\n",
    "#     pr_auc = auc(recall, precision)\n",
    "    \n",
    "#     cv_results.loc[j+1][['Precision', 'Recall', 'PR_AUC']] = [precision], [recall], pr_auc\n",
    "\n",
    "    \n",
    "#     cv_results.loc[j+1][['FPR', 'TPR', 'ROC_AUC']] = [fpr], [tpr], roc_auc\n",
    "    \n",
    "    preds = [i[1] for i in clf.predict_proba(X_test)]\n",
    "    dfs[j]['SP_Prediction'] = preds\n",
    "\n",
    "\n",
    "\n",
    "    mcc = []\n",
    "\n",
    "    for i, v in enumerate(np.arange(0.01, 0.99, 0.01)):\n",
    "        y_pred = [0 if x <= v else 1 for x in preds]\n",
    "        mcc.append(matthews_corrcoef(y_test, y_pred))\n",
    "    \n",
    "    mccs.append(max(mcc))\n",
    "    cv_results.loc[j+1]['MCC'] = max(mcc)\n",
    "    cv_results.loc[j+1]['Threshold'] = np.arange(0.01, 0.99, 0.01)[np.argmax(mcc)]\n",
    "    functions.progress(j+1, 5)\n",
    "\n",
    "for i, v in enumerate(mccs):\n",
    "    print('Max MCC for round {} is {}'.format(i+1, round(v, 3)))"
   ]
  },
  {
   "cell_type": "code",
   "execution_count": 6,
   "metadata": {},
   "outputs": [],
   "source": [
    "final_df = pd.concat(dfs)"
   ]
  },
  {
   "cell_type": "code",
   "execution_count": 7,
   "metadata": {},
   "outputs": [
    {
     "data": {
      "text/plain": [
       "0.7405575627922645"
      ]
     },
     "execution_count": 7,
     "metadata": {},
     "output_type": "execute_result"
    }
   ],
   "source": [
    "np.median(cv_results['MCC'])"
   ]
  },
  {
   "cell_type": "code",
   "execution_count": 15,
   "metadata": {},
   "outputs": [
    {
     "name": "stdout",
     "output_type": "stream",
     "text": [
      "|██████████████████████████████████████████████████| 100% (98/98)  \n",
      "Completed!\n"
     ]
    },
    {
     "name": "stderr",
     "output_type": "stream",
     "text": [
      "/Volumes/userdata/student_users/bikashkumarbhandari/anaconda3/lib/python3.7/site-packages/seaborn/_decorators.py:43: FutureWarning: Pass the following variables as keyword args: x, y. From version 0.12, the only valid positional argument will be `data`, and passing other arguments without an explicit keyword will result in an error or misinterpretation.\n",
      "  FutureWarning\n",
      "/Volumes/userdata/student_users/bikashkumarbhandari/anaconda3/lib/python3.7/site-packages/seaborn/_decorators.py:43: FutureWarning: Pass the following variables as keyword args: x, y. From version 0.12, the only valid positional argument will be `data`, and passing other arguments without an explicit keyword will result in an error or misinterpretation.\n",
      "  FutureWarning\n",
      "/Volumes/userdata/student_users/bikashkumarbhandari/anaconda3/lib/python3.7/site-packages/seaborn/_decorators.py:43: FutureWarning: Pass the following variables as keyword args: x, y. From version 0.12, the only valid positional argument will be `data`, and passing other arguments without an explicit keyword will result in an error or misinterpretation.\n",
      "  FutureWarning\n"
     ]
    },
    {
     "data": {
      "image/png": "[encoded data removed]",
      "text/plain": [
       "<Figure size 864x288 with 3 Axes>"
      ]
     },
     "metadata": {},
     "output_type": "display_data"
    }
   ],
   "source": [
    "from sklearn.metrics import roc_curve, auc\n",
    "from sklearn.metrics import matthews_corrcoef\n",
    "from sklearn.metrics import precision_recall_curve\n",
    "\n",
    "\n",
    "preds = final_df['SP_Prediction']\n",
    "y = final_df['Label']\n",
    "\n",
    "#Precision, recall\n",
    "precision, recall, _ = precision_recall_curve(y, preds, )\n",
    "lr_auc = auc(recall, precision)\n",
    "\n",
    "\n",
    "#ROC\n",
    "\n",
    "fpr, tpr, _ = roc_curve(y, preds)\n",
    "roc_auc = auc(fpr, tpr)\n",
    "\n",
    "\n",
    "\n",
    "mcc = []\n",
    "\n",
    "for i, v in enumerate(np.arange(0.01, 0.99, 0.01)):\n",
    "    y_pred = [0 if x <= v else 1 for x in preds]\n",
    "    mcc.append(matthews_corrcoef(y, y_pred))\n",
    "    functions.progress(i+1, 98)\n",
    "\n",
    "\n",
    "\n",
    "fig, ax = plt.subplots(nrows=1, ncols=3, figsize=(12, 4),)\n",
    "sns.lineplot(fpr, tpr, label='{} (AUC={})'.format('Toxin', round(roc_auc, 2)), ax=ax[0])\n",
    "#baseline\n",
    "ax[0].plot([0, 1], [0, 1], color='navy', lw=1, linestyle='--')\n",
    "\n",
    "sns.lineplot(recall, precision, label='{} (AUC={})'.format('Toxin', round(lr_auc, 2)), ax=ax[1])\n",
    "#baseline\n",
    "baseline = final_df.Label.value_counts()[1]/final_df.shape[0]\n",
    "\n",
    "ax[1].axhline(y=baseline, color='navy', lw=1, linestyle='--')\n",
    "ax[0].set_xlabel('FPR')\n",
    "ax[0].set_ylabel('TPR')\n",
    "\n",
    "\n",
    "\n",
    "ax[1].set_xlabel('Recall')\n",
    "ax[1].set_ylabel('Precision')\n",
    "\n",
    "\n",
    "sns.lineplot(np.arange(0.01, 0.99, 0.01), mcc, \\\n",
    "             label='{}'.format('Toxin'), ax=ax[2])\n",
    "ax[2].set_xlabel('Threshold')\n",
    "ax[2].set_ylabel('MCC')\n",
    "\n",
    "y = np.arange(0.01, 0.99, 0.01)[np.argmax(mcc)]\n",
    "x = max(mcc)\n",
    "# plt.axvline(x=np.arange(0.01, 0.99, 0.01)[np.argmax(mcc)])\n",
    "ax[2].annotate('MCC=' + str(round(x, 3)) + '\\n(Thresh.=' + str(np.round(y, 2)) + ')',\n",
    "        xy=(y, x), xycoords='data',\n",
    "        xytext=(0.5, 0.5), textcoords='axes fraction',\n",
    "        horizontalalignment=\"center\",\n",
    "        fontsize=12,\n",
    "        arrowprops=dict(arrowstyle=\"->\",\n",
    "                        connectionstyle=\"arc3\",\n",
    "                        color='black',\n",
    "                        lw=1.5),\n",
    "        )\n",
    "\n",
    "\n",
    "fig.tight_layout()\n",
    "plt.savefig('figs/Cross_validation_toxin.pdf', bbox_inches='tight', pad_inches=0);"
   ]
  },
  {
   "cell_type": "code",
   "execution_count": null,
   "metadata": {},
   "outputs": [],
   "source": []
  },
  {
   "cell_type": "code",
   "execution_count": 9,
   "metadata": {},
   "outputs": [],
   "source": [
    "final_df.to_pickle('results/toxin_for_overall_MCC.pkl.gz')"
   ]
  },
  {
   "cell_type": "code",
   "execution_count": 10,
   "metadata": {},
   "outputs": [
    {
     "data": {
      "text/html": [
       "<div>\n",
       "<style scoped>\n",
       "    .dataframe tbody tr th:only-of-type {\n",
       "        vertical-align: middle;\n",
       "    }\n",
       "\n",
       "    .dataframe tbody tr th {\n",
       "        vertical-align: top;\n",
       "    }\n",
       "\n",
       "    .dataframe thead th {\n",
       "        text-align: right;\n",
       "    }\n",
       "</style>\n",
       "<table border=\"1\" class=\"dataframe\">\n",
       "  <thead>\n",
       "    <tr style=\"text-align: right;\">\n",
       "      <th></th>\n",
       "      <th>Classifier</th>\n",
       "      <th>Threshold</th>\n",
       "    </tr>\n",
       "  </thead>\n",
       "  <tbody>\n",
       "    <tr>\n",
       "      <th>1</th>\n",
       "      <td>(DecisionTreeClassifier(max_features='auto', r...</td>\n",
       "      <td>0.34</td>\n",
       "    </tr>\n",
       "    <tr>\n",
       "      <th>2</th>\n",
       "      <td>(DecisionTreeClassifier(max_features='auto', r...</td>\n",
       "      <td>0.36</td>\n",
       "    </tr>\n",
       "    <tr>\n",
       "      <th>3</th>\n",
       "      <td>(DecisionTreeClassifier(max_features='auto', r...</td>\n",
       "      <td>0.35</td>\n",
       "    </tr>\n",
       "    <tr>\n",
       "      <th>4</th>\n",
       "      <td>(DecisionTreeClassifier(max_features='auto', r...</td>\n",
       "      <td>0.27</td>\n",
       "    </tr>\n",
       "    <tr>\n",
       "      <th>5</th>\n",
       "      <td>(DecisionTreeClassifier(max_features='auto', r...</td>\n",
       "      <td>0.34</td>\n",
       "    </tr>\n",
       "  </tbody>\n",
       "</table>\n",
       "</div>"
      ],
      "text/plain": [
       "                                          Classifier Threshold\n",
       "1  (DecisionTreeClassifier(max_features='auto', r...      0.34\n",
       "2  (DecisionTreeClassifier(max_features='auto', r...      0.36\n",
       "3  (DecisionTreeClassifier(max_features='auto', r...      0.35\n",
       "4  (DecisionTreeClassifier(max_features='auto', r...      0.27\n",
       "5  (DecisionTreeClassifier(max_features='auto', r...      0.34"
      ]
     },
     "execution_count": 10,
     "metadata": {},
     "output_type": "execute_result"
    }
   ],
   "source": [
    "classifiers = cv_results[['Classifier', 'Threshold']].copy()\n",
    "classifiers.head()"
   ]
  },
  {
   "cell_type": "code",
   "execution_count": 12,
   "metadata": {},
   "outputs": [],
   "source": [
    "classifiers.to_pickle('results/Toxin_Classifier.pkl.gz')"
   ]
  },
  {
   "cell_type": "code",
   "execution_count": null,
   "metadata": {},
   "outputs": [],
   "source": []
  },
  {
   "cell_type": "code",
   "execution_count": null,
   "metadata": {},
   "outputs": [],
   "source": []
  }
 ],
 "metadata": {
  "kernelspec": {
   "display_name": "Python 3",
   "language": "python",
   "name": "python3"
  },
  "language_info": {
   "codemirror_mode": {
    "name": "ipython",
    "version": 3
   },
   "file_extension": ".py",
   "mimetype": "text/x-python",
   "name": "python",
   "nbconvert_exporter": "python",
   "pygments_lexer": "ipython3",
   "version": "3.7.6"
  }
 },
 "nbformat": 4,
 "nbformat_minor": 4
}
